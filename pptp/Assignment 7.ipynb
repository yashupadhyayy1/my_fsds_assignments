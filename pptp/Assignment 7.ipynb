{
 "cells": [
  {
   "cell_type": "markdown",
   "id": "edfb6350",
   "metadata": {},
   "source": [
    "# ASSIGNMENT 7"
   ]
  },
  {
   "cell_type": "markdown",
   "id": "9592dacd",
   "metadata": {},
   "source": [
    "**Ans 1.**  To multiply two sparse matrices `mat1` and `mat2`, we can optimize the multiplication by only performing calculations on non-zero elements. Here's an optimized approach to solve this problem:\n",
    "\n",
    "1. Initialize an empty result matrix `result` of size m x n, where m is the number of rows in `mat1` and n is the number of columns in `mat2`.\n",
    "2. Create a dictionary `sparse_mat1` to store the non-zero elements of `mat1`. The keys of the dictionary will be the row indices, and the values will be dictionaries where the keys are the column indices and the values are the corresponding elements.\n",
    "3. Iterate through the rows of `mat2` and do the following for each row:\n",
    "   - Iterate through the columns of `mat2` and do the following for each column:\n",
    "     - Initialize a variable `temp` to store the result of the dot product.\n",
    "     - Iterate through the non-zero elements of the current row of `mat2` (skip if the element is zero).\n",
    "     - Check if the corresponding element in `mat1` exists (skip if it doesn't).\n",
    "     - Multiply the corresponding elements, add the product to `temp`.\n",
    "   - If `temp` is not zero, assign `temp` to the corresponding element in the `result` matrix.\n",
    "4. Return the `result` matrix.\n",
    "\n",
    "Here's the implementation of the above approach in Python:\n",
    "\n",
    "\n",
    "\n"
   ]
  },
  {
   "cell_type": "code",
   "execution_count": 1,
   "id": "ab211482",
   "metadata": {},
   "outputs": [
    {
     "name": "stdout",
     "output_type": "stream",
     "text": [
      "[[7, 0, 0], [-7, 0, 0]]\n"
     ]
    }
   ],
   "source": [
    "def multiply(mat1, mat2):\n",
    "    m, k = len(mat1), len(mat1[0])\n",
    "    k, n = len(mat2), len(mat2[0])\n",
    "    result = [[0] * n for _ in range(m)]\n",
    "    sparse_mat1 = {}\n",
    "\n",
    "    for i in range(m):\n",
    "        sparse_mat1[i] = {}\n",
    "        for j in range(k):\n",
    "            if mat1[i][j] != 0:\n",
    "                sparse_mat1[i][j] = mat1[i][j]\n",
    "\n",
    "    for i in range(m):\n",
    "        for j in range(n):\n",
    "            temp = 0\n",
    "            for x in sparse_mat1[i]:\n",
    "                if x in mat2[j]:\n",
    "                    temp += sparse_mat1[i][x] * mat2[j][x]\n",
    "            if temp != 0:\n",
    "                result[i][j] = temp\n",
    "\n",
    "    return result\n",
    "\n",
    "mat1 = [[1, 0, 0], [-1, 0, 3]]\n",
    "mat2 = [[7, 0, 0], [0, 0, 0], [0, 0, 1]]\n",
    "print(multiply(mat1, mat2))"
   ]
  },
  {
   "cell_type": "markdown",
   "id": "1d398e6c",
   "metadata": {},
   "source": [
    "**Ans 2.** To determine if a number is strobogrammatic, we need to check if it looks the same when rotated 180 degrees. This means that certain pairs of digits should be symmetrical. Here's a step-by-step algorithm to solve this problem:\n",
    "\n",
    "1. Create a dictionary to store the mapping of the digits that have a symmetrical counterpart. For example, '0' maps to '0', '1' maps to '1', '6' maps to '9', '8' maps to '8', and '9' maps to '6'.\n",
    "2. Initialize two pointers, one at the beginning of the string (`left`) and the other at the end (`right`).\n",
    "3. Iterate through the string while `left` is less than or equal to `right`:\n",
    "     - Check if the pair of characters at `left` and `right` in the string are symmetrical according to the dictionary. If they are not, return `False`.\n",
    "     - Move `left` one step to the right and `right` one step to the left.\n",
    "4. If the loop completes without returning `False`, return `True`.\n",
    "\n",
    "Here's the implementation of the above algorithm in Python:\n",
    "\n"
   ]
  },
  {
   "cell_type": "code",
   "execution_count": 5,
   "id": "45d03296",
   "metadata": {},
   "outputs": [
    {
     "name": "stdout",
     "output_type": "stream",
     "text": [
      "True\n"
     ]
    }
   ],
   "source": [
    "def isStrobogrammatic(num):\n",
    "    mapping = {'0': '0', '1': '1', '6': '9', '8': '8', '9': '6'}\n",
    "    left, right = 0, len(num) - 1\n",
    "    while left <= right:\n",
    "        if num[left] not in mapping or mapping[num[left]] != num[right]:\n",
    "            return False\n",
    "        left += 1\n",
    "        right -= 1\n",
    "    return True\n",
    "\n",
    "num = \"69\"\n",
    "print(isStrobogrammatic(num))  \n"
   ]
  },
  {
   "cell_type": "markdown",
   "id": "2278117e",
   "metadata": {},
   "source": [
    "**Ans 3.** To solve this problem, we can perform addition digit by digit, starting from the least significant digit (rightmost) and moving towards the most significant digit (leftmost). We'll initialize a carry variable to keep track of any carry-over that occurs during addition.\n",
    "\n",
    "Here's the step-by-step algorithm:\n",
    "\n",
    "1. Initialize two pointers, `i` and `j`, to point to the least significant digits of `num1` and `num2`, respectively.\n",
    "2. Initialize an empty string, `result`, to store the resulting sum.\n",
    "3. Initialize a carry variable, `carry`, to 0.\n",
    "4. While `i` or `j` is greater than or equal to 0 or `carry` is non-zero:\n",
    "     - Initialize `x` and `y` as the digits at positions `i` and `j` in `num1` and `num2`, respectively. If `i` or `j` is less than 0, set `x` or `y` to 0.\n",
    "     - Compute the sum `digitSum` of `x`, `y`, and `carry`.\n",
    "     - Append the least significant digit of `digitSum` to the front of `result`.\n",
    "     - Update `carry` to the most significant digit of `digitSum`.\n",
    "     - Decrement `i` and `j` by 1.\n",
    "5. Return `result` as the final sum.\n",
    "\n",
    "Here's the implementation of the above algorithm in Python:\n",
    "\n",
    "\n",
    "\n"
   ]
  },
  {
   "cell_type": "code",
   "execution_count": 9,
   "id": "21ea9b89",
   "metadata": {},
   "outputs": [
    {
     "name": "stdout",
     "output_type": "stream",
     "text": [
      "134\n"
     ]
    }
   ],
   "source": [
    "def addStrings(num1, num2):\n",
    "    i, j = len(num1) - 1, len(num2) - 1\n",
    "    carry = 0\n",
    "    result = \"\"\n",
    "    while i >= 0 or j >= 0 or carry != 0:\n",
    "        x = int(num1[i]) if i >= 0 else 0\n",
    "        y = int(num2[j]) if j >= 0 else 0\n",
    "        digitSum = x + y + carry\n",
    "        result = str(digitSum % 10) + result\n",
    "        carry = digitSum // 10\n",
    "        i -= 1\n",
    "        j -= 1\n",
    "    return result\n",
    "\n",
    "num1 = \"11\"\n",
    "num2 = \"123\"\n",
    "print(addStrings(num1, num2))\n"
   ]
  },
  {
   "cell_type": "markdown",
   "id": "2fd2d79a",
   "metadata": {},
   "source": [
    "**Ans 4.**  Here is a Python code that reverses the order of characters in each word within a sentence while still preserving whitespace and initial word order:\n",
    "\n",
    "\n"
   ]
  },
  {
   "cell_type": "code",
   "execution_count": 10,
   "id": "b55783c5",
   "metadata": {},
   "outputs": [
    {
     "name": "stdout",
     "output_type": "stream",
     "text": [
      "s'teL ekat edoCteeL tsetnoc\n"
     ]
    }
   ],
   "source": [
    "def reverse_words(s):\n",
    "  words = s.split()\n",
    "  for i in range(len(words)):\n",
    "    words[i] = words[i][::-1]\n",
    "  return \" \".join(words)\n",
    "\n",
    "\n",
    "if __name__ == \"__main__\":\n",
    "  s = \"Let's take LeetCode contest\"\n",
    "  print(reverse_words(s))\n"
   ]
  },
  {
   "cell_type": "markdown",
   "id": "398ad00a",
   "metadata": {},
   "source": [
    "**Ans 5.** To solve this problem, we can iterate through the string `s` with a step size of `2k` and reverse the first `k` characters in each iteration.\n",
    "\n",
    "Here's the step-by-step algorithm:\n",
    "\n",
    "1. Convert the string `s` into a list of characters to make it mutable.\n",
    "2. Initialize a variable `i` to 0 to keep track of the current index.\n",
    "3. While `i` is less than the length of `s`:\n",
    "     - Reverse the sublist from index `i` to `i + k` (inclusive) in the list.\n",
    "     - Increment `i` by `2k`.\n",
    "4. Convert the list back to a string and return it as the result.\n",
    "\n",
    "Here's the implementation of the above algorithm in Python:\n",
    "\n",
    "\n"
   ]
  },
  {
   "cell_type": "code",
   "execution_count": 11,
   "id": "fd5b4ad4",
   "metadata": {},
   "outputs": [
    {
     "name": "stdout",
     "output_type": "stream",
     "text": [
      "bacdfeg\n"
     ]
    }
   ],
   "source": [
    "def reverseStr(s, k):\n",
    "    s = list(s)\n",
    "    i = 0\n",
    "    while i < len(s):\n",
    "        s[i:i+k] = reversed(s[i:i+k])\n",
    "        i += 2*k\n",
    "    return ''.join(s)\n",
    "\n",
    "s = \"abcdefg\"\n",
    "k = 2\n",
    "print(reverseStr(s, k))  \n"
   ]
  },
  {
   "cell_type": "markdown",
   "id": "13eb3d7f",
   "metadata": {},
   "source": [
    "**Ans 6.** Here is a Python code that checks if a string can be achieved after some number of shifts on another string.\n",
    "\n"
   ]
  },
  {
   "cell_type": "code",
   "execution_count": 12,
   "id": "71876c45",
   "metadata": {},
   "outputs": [
    {
     "name": "stdout",
     "output_type": "stream",
     "text": [
      "True\n"
     ]
    }
   ],
   "source": [
    "def can_be_achieved_after_shifts(s, goal):\n",
    "  if len(s) != len(goal):\n",
    "    return False\n",
    "\n",
    "  for i in range(len(s)):\n",
    "    if s == goal[i:] + goal[:i]:\n",
    "      return True\n",
    "\n",
    "  return False\n",
    "\n",
    "\n",
    "if __name__ == \"__main__\":\n",
    "  s = \"abcde\"\n",
    "  goal = \"cdeab\"\n",
    "\n",
    "  print(can_be_achieved_after_shifts(s, goal))\n"
   ]
  },
  {
   "cell_type": "markdown",
   "id": "9e9c049d",
   "metadata": {},
   "source": [
    "**Ans 7.** To compare two strings after considering backspaces, we can simulate the typing process using a stack. We'll iterate through the characters of both strings and push non-backspace characters onto the stack. When encountering a backspace character, we'll pop an element from the stack if it's not empty.\n",
    "\n",
    "Here's the step-by-step algorithm:\n",
    "\n",
    "1. Define a helper function `processString` that takes a string as input and returns the processed version of the string after considering backspaces. This function will use a stack to simulate the typing process.\n",
    "     - Initialize an empty stack.\n",
    "     - Iterate through the characters in the input string:\n",
    "         - If the character is not a backspace ('#'), push it onto the stack.\n",
    "         - If the character is a backspace ('#') and the stack is not empty, pop an element from the stack.\n",
    "     - Convert the stack to a string and return it.\n",
    "2. Process both strings `s` and `t` using the `processString` helper function.\n",
    "3. Compare the processed strings `s_processed` and `t_processed` and return `True` if they are equal, and `False` otherwise.\n",
    "\n",
    "Here's the implementation of the above algorithm in Python:\n",
    "\n",
    "\n"
   ]
  },
  {
   "cell_type": "code",
   "execution_count": 13,
   "id": "ee6fe031",
   "metadata": {},
   "outputs": [
    {
     "name": "stdout",
     "output_type": "stream",
     "text": [
      "True\n"
     ]
    }
   ],
   "source": [
    "def backspaceCompare(s, t):\n",
    "    def processString(string):\n",
    "        stack = []\n",
    "        for char in string:\n",
    "            if char != '#':\n",
    "                stack.append(char)\n",
    "            elif stack:\n",
    "                stack.pop()\n",
    "        return ''.join(stack)\n",
    "    \n",
    "    s_processed = processString(s)\n",
    "    t_processed = processString(t)\n",
    "    \n",
    "    return s_processed == t_processed\n",
    "\n",
    "s = \"ab#c\"\n",
    "t = \"ad#c\"\n",
    "print(backspaceCompare(s, t))\n",
    "\n"
   ]
  },
  {
   "cell_type": "markdown",
   "id": "293d3706",
   "metadata": {},
   "source": [
    "**Ans 8.** Here is a Python code that checks if a set of points make a straight line in the XY plane:\n",
    "\n",
    "\n",
    "\n",
    "\n",
    "\n"
   ]
  },
  {
   "cell_type": "code",
   "execution_count": 14,
   "id": "68694bbf",
   "metadata": {},
   "outputs": [
    {
     "name": "stdout",
     "output_type": "stream",
     "text": [
      "True\n"
     ]
    }
   ],
   "source": [
    "def is_straight_line(coordinates):\n",
    "  if len(coordinates) < 2:\n",
    "    return False\n",
    "\n",
    "  slope = (coordinates[1][1] - coordinates[0][1]) / (coordinates[1][0] - coordinates[0][0])\n",
    "  for i in range(2, len(coordinates)):\n",
    "    if (coordinates[i][1] - coordinates[i - 1][1]) / (coordinates[i][0] - coordinates[i - 1][0]) != slope:\n",
    "      return False\n",
    "\n",
    "  return True\n",
    "\n",
    "\n",
    "if __name__ == \"__main__\":\n",
    "  coordinates = [[1, 2], [2, 3], [3, 4], [4, 5], [5, 6], [6, 7]]\n",
    "\n",
    "  print(is_straight_line(coordinates))\n"
   ]
  },
  {
   "cell_type": "code",
   "execution_count": null,
   "id": "5685e5ce",
   "metadata": {},
   "outputs": [],
   "source": []
  }
 ],
 "metadata": {
  "kernelspec": {
   "display_name": "Python 3 (ipykernel)",
   "language": "python",
   "name": "python3"
  },
  "language_info": {
   "codemirror_mode": {
    "name": "ipython",
    "version": 3
   },
   "file_extension": ".py",
   "mimetype": "text/x-python",
   "name": "python",
   "nbconvert_exporter": "python",
   "pygments_lexer": "ipython3",
   "version": "3.9.12"
  }
 },
 "nbformat": 4,
 "nbformat_minor": 5
}
