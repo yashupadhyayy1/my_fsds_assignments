{
 "cells": [
  {
   "cell_type": "markdown",
   "id": "edfb6350",
   "metadata": {},
   "source": [
    "# ASSIGNMENT 6"
   ]
  },
  {
   "cell_type": "markdown",
   "id": "9592dacd",
   "metadata": {},
   "source": [
    "**Ans 1.**  Here is the code to reconstruct the permutation perm from a string s."
   ]
  },
  {
   "cell_type": "code",
   "execution_count": 1,
   "id": "ab211482",
   "metadata": {},
   "outputs": [
    {
     "name": "stdout",
     "output_type": "stream",
     "text": [
      "[0, 2, 2, 0]\n"
     ]
    }
   ],
   "source": [
    "def reconstruct_permutation(s):\n",
    "  \"\"\"\n",
    "  Reconstructs the permutation perm from a string s.\n",
    "\n",
    "  Args:\n",
    "    s: A string of length n where s[i] == 'I' if perm[i] < perm[i + 1], and s[i] == 'D' if perm[i] > perm[i + 1].\n",
    "\n",
    "  Returns:\n",
    "    A list of integers representing the permutation perm.\n",
    "  \"\"\"\n",
    "\n",
    "  n = len(s)\n",
    "  perm = [None] * n\n",
    "  for i in range(n):\n",
    "    if s[i] == 'I':\n",
    "      perm[i] = i\n",
    "    elif s[i] == 'D':\n",
    "      perm[i] = n - i - 1\n",
    "\n",
    "  return perm\n",
    "s = \"IDID\"\n",
    "perm = reconstruct_permutation(s)\n",
    "print(perm)\n"
   ]
  },
  {
   "cell_type": "markdown",
   "id": "1d398e6c",
   "metadata": {},
   "source": [
    "**Ans 2.** To solve this problem in O(log(m * n)) time complexity, we can use a modified binary search algorithm. Here's the step-by-step approach:\n",
    "\n",
    "1. Initialize two pointers, `left` and `right`, to the first and last elements of the matrix respectively. These pointers represent the range in which the target may be present.\n",
    "2. While `left <= right`, do the following:\n",
    "   - Calculate the middle element of the range: `mid = left + (right - left) // 2`.\n",
    "   - Convert the `mid` index to the corresponding row and column indices:\n",
    "     - `row = mid // n` (integer division)\n",
    "     - `col = mid % n` (modulo operation)\n",
    "   - Compare the target with the element at the calculated indices:\n",
    "     - If `matrix[row][col] == target`, return `true` as the target is found.\n",
    "     - If `matrix[row][col] < target`, update `left = mid + 1` to search in the right half of the range.\n",
    "     - If `matrix[row][col] > target`, update `right = mid - 1` to search in the left half of the range.\n",
    "3. If the while loop terminates without finding the target, return `false`.\n",
    "\n",
    "Here's the implementation of the above algorithm in Python:\n",
    "\n",
    "\n"
   ]
  },
  {
   "cell_type": "code",
   "execution_count": 2,
   "id": "45d03296",
   "metadata": {},
   "outputs": [
    {
     "name": "stdout",
     "output_type": "stream",
     "text": [
      "True\n"
     ]
    }
   ],
   "source": [
    "def searchMatrix(matrix, target):\n",
    "    if not matrix or not matrix[0]:\n",
    "        return False\n",
    "\n",
    "    m, n = len(matrix), len(matrix[0])\n",
    "    left, right = 0, m * n - 1\n",
    "\n",
    "    while left <= right:\n",
    "        mid = left + (right - left) // 2\n",
    "        row = mid // n\n",
    "        col = mid % n\n",
    "\n",
    "        if matrix[row][col] == target:\n",
    "            return True\n",
    "        elif matrix[row][col] < target:\n",
    "            left = mid + 1\n",
    "        else:\n",
    "            right = mid - 1\n",
    "\n",
    "    return False\n",
    "\n",
    "matrix = [[1, 3, 5, 7], [10, 11, 16, 20], [23, 30, 34, 60]]\n",
    "target = 3\n",
    "print(searchMatrix(matrix, target))\n"
   ]
  },
  {
   "cell_type": "markdown",
   "id": "2278117e",
   "metadata": {},
   "source": [
    "**Ans 3.** Here is the code to check if an array is a valid mountain array.\n",
    "\n",
    "\n"
   ]
  },
  {
   "cell_type": "code",
   "execution_count": 3,
   "id": "21ea9b89",
   "metadata": {},
   "outputs": [
    {
     "name": "stdout",
     "output_type": "stream",
     "text": [
      "False\n"
     ]
    }
   ],
   "source": [
    "def is_mountain_array(arr):\n",
    "  \"\"\"\n",
    "  Checks if an array is a valid mountain array.\n",
    "\n",
    "  Args:\n",
    "    arr: An array of integers.\n",
    "\n",
    "  Returns:\n",
    "    True if arr is a valid mountain array, False otherwise.\n",
    "  \"\"\"\n",
    "\n",
    "  if len(arr) < 3:\n",
    "    return False\n",
    "\n",
    "  increasing = True\n",
    "  for i in range(1, len(arr)):\n",
    "    if arr[i] < arr[i - 1]:\n",
    "      increasing = False\n",
    "      break\n",
    "\n",
    "  if not increasing:\n",
    "    return False\n",
    "\n",
    "  decreasing = True\n",
    "  for i in range(len(arr) - 2, -1, -1):\n",
    "    if arr[i] > arr[i + 1]:\n",
    "      decreasing = False\n",
    "      break\n",
    "\n",
    "  return increasing and decreasing\n",
    "\n",
    "arr = [2, 1]\n",
    "\n",
    "if is_mountain_array(arr):\n",
    "  print(\"True\")\n",
    "else:\n",
    "  print(\"False\")\n"
   ]
  },
  {
   "cell_type": "markdown",
   "id": "2fd2d79a",
   "metadata": {},
   "source": [
    "**Ans 4.**To find the maximum length of a contiguous subarray with an equal number of 0s and 1s, we can use a variation of the prefix sum technique. Here's an approach to solve this problem:\n",
    "\n",
    "1. Initialize a variable `max_len` to store the maximum length found so far and a variable `count` to keep track of the running count (count of 0s and 1s).\n",
    "2. Create an empty dictionary `count_map` to store the count and its corresponding index.\n",
    "3. Iterate through the binary array `nums` and do the following for each element:\n",
    "   - If the element is 1, increment the `count` by 1. Otherwise, decrement the `count` by 1.\n",
    "   - Check if the `count` is already present in `count_map`.\n",
    "     - If it is present, calculate the length of the subarray by subtracting the current index from the stored index in `count_map` and update `max_len` if necessary.\n",
    "     - If it is not present, add the `count` and its index to `count_map`.\n",
    "4. Return `max_len` as the maximum length of a contiguous subarray with an equal number of 0s and 1s.\n",
    "\n",
    "Here's the implementation of the above approach in Python:\n",
    "\n",
    "\n"
   ]
  },
  {
   "cell_type": "code",
   "execution_count": 4,
   "id": "b55783c5",
   "metadata": {},
   "outputs": [
    {
     "name": "stdout",
     "output_type": "stream",
     "text": [
      "2\n"
     ]
    }
   ],
   "source": [
    "def findMaxLength(nums):\n",
    "    count_map = {0: -1}\n",
    "    max_len = 0\n",
    "    count = 0\n",
    "\n",
    "    for i in range(len(nums)):\n",
    "        if nums[i] == 1:\n",
    "            count += 1\n",
    "        else:\n",
    "            count -= 1\n",
    "\n",
    "        if count in count_map:\n",
    "            curr_len = i - count_map[count]\n",
    "            max_len = max(max_len, curr_len)\n",
    "        else:\n",
    "            count_map[count] = i\n",
    "\n",
    "    return max_len\n",
    "\n",
    "nums = [0, 1]\n",
    "print(findMaxLength(nums))\n"
   ]
  },
  {
   "cell_type": "markdown",
   "id": "398ad00a",
   "metadata": {},
   "source": [
    "**Ans 5.** here is the code to find the minimum product sum of two arrays nums1 and nums2 if you are allowed to rearrange the order of the elements in nums1:"
   ]
  },
  {
   "cell_type": "code",
   "execution_count": 5,
   "id": "fd5b4ad4",
   "metadata": {},
   "outputs": [
    {
     "name": "stdout",
     "output_type": "stream",
     "text": [
      "47\n"
     ]
    }
   ],
   "source": [
    "def min_product_sum(nums1, nums2):\n",
    "  \"\"\"\n",
    "  Finds the minimum product sum of two arrays nums1 and nums2 if you are allowed to rearrange the order of the elements in nums1.\n",
    "\n",
    "  Args:\n",
    "    nums1: An array of integers.\n",
    "    nums2: An array of integers.\n",
    "\n",
    "  Returns:\n",
    "    The minimum product sum.\n",
    "  \"\"\"\n",
    "\n",
    "  nums1.sort()\n",
    "  product_sum = 0\n",
    "  for i in range(len(nums1)):\n",
    "    product_sum += nums1[i] * nums2[i]\n",
    "\n",
    "  return product_sum\n",
    "nums1 = [5,3,4,2]\n",
    "nums2 = [4,2,2,5]\n",
    "\n",
    "min_product_sum = min_product_sum(nums1, nums2)\n",
    "\n",
    "print(min_product_sum)\n",
    "\n"
   ]
  },
  {
   "cell_type": "markdown",
   "id": "13eb3d7f",
   "metadata": {},
   "source": [
    "**Ans 6.** To find the maximum length of a contiguous subarray with an equal number of 0s and 1s, we can use a variation of the prefix sum technique. Here's an approach to solve this problem:\n",
    "\n",
    "1. Initialize a variable `max_len` to store the maximum length found so far and a variable `count` to keep track of the running count (count of 0s and 1s).\n",
    "2. Create an empty dictionary `count_map` to store the count and its corresponding index.\n",
    "3. Iterate through the binary array `nums` and do the following for each element:\n",
    "   - If the element is 1, increment the `count` by 1. Otherwise, decrement the `count` by 1.\n",
    "   - Check if the `count` is already present in `count_map`.\n",
    "     - If it is present, calculate the length of the subarray by subtracting the current index from the stored index in `count_map` and update `max_len` if necessary.\n",
    "     - If it is not present, add the `count` and its index to `count_map`.\n",
    "4. Return `max_len` as the maximum length of a contiguous subarray with an equal number of 0s and 1s.\n",
    "\n",
    "Here's the implementation of the above approach in Python:\n",
    "\n"
   ]
  },
  {
   "cell_type": "code",
   "execution_count": 6,
   "id": "71876c45",
   "metadata": {},
   "outputs": [
    {
     "name": "stdout",
     "output_type": "stream",
     "text": [
      "2\n"
     ]
    }
   ],
   "source": [
    "def findMaxLength(nums):\n",
    "    count_map = {0: -1}\n",
    "    max_len = 0\n",
    "    count = 0\n",
    "\n",
    "    for i in range(len(nums)):\n",
    "        if nums[i] == 1:\n",
    "            count += 1\n",
    "        else:\n",
    "            count -= 1\n",
    "\n",
    "        if count in count_map:\n",
    "            curr_len = i - count_map[count]\n",
    "            max_len = max(max_len, curr_len)\n",
    "        else:\n",
    "            count_map[count] = i\n",
    "\n",
    "    return max_len\n",
    "\n",
    "nums = [0, 1]\n",
    "print(findMaxLength(nums))\n"
   ]
  },
  {
   "cell_type": "markdown",
   "id": "9e9c049d",
   "metadata": {},
   "source": [
    "**Ans 7.** Here is the code to generate an n x n matrix filled with elements from 1 to n2 in spiral order:\n",
    "\n"
   ]
  },
  {
   "cell_type": "code",
   "execution_count": 10,
   "id": "ee6fe031",
   "metadata": {},
   "outputs": [
    {
     "name": "stdout",
     "output_type": "stream",
     "text": [
      "[1, 2, 3]\n",
      "[8, 9, 4]\n",
      "[7, 6, 5]\n"
     ]
    }
   ],
   "source": [
    "def spiral_matrix(n):\n",
    "  \"\"\"\n",
    "  Generates an n x n matrix filled with elements from 1 to n2 in spiral order.\n",
    "\n",
    "  Args:\n",
    "    n: A positive integer.\n",
    "\n",
    "  Returns:\n",
    "    A n x n matrix.\n",
    "  \"\"\"\n",
    "\n",
    "  matrix = [[None] * n for _ in range(n)]\n",
    "  row = 0\n",
    "  col = 0\n",
    "  direction = 0\n",
    "  for i in range(1, n**2 + 1):\n",
    "    matrix[row][col] = i\n",
    "\n",
    "    if direction == 0:\n",
    "      if col + 1 < n and matrix[row][col + 1] is None:\n",
    "        col += 1\n",
    "      else:\n",
    "        row += 1\n",
    "        direction = 1\n",
    "    elif direction == 1:\n",
    "      if row + 1 < n and matrix[row + 1][col] is None:\n",
    "        row += 1\n",
    "      else:\n",
    "        col -= 1\n",
    "        direction = 2\n",
    "    elif direction == 2:\n",
    "      if col - 1 >= 0 and matrix[row][col - 1] is None:\n",
    "        col -= 1\n",
    "      else:\n",
    "        row -= 1\n",
    "        direction = 3\n",
    "    else:\n",
    "      if row - 1 >= 0 and matrix[row - 1][col] is None:\n",
    "        row -= 1\n",
    "      else:\n",
    "        col += 1\n",
    "        direction = 0\n",
    "\n",
    "  return matrix\n",
    "n = 3\n",
    "\n",
    "matrix = spiral_matrix(n)\n",
    "\n",
    "for row in matrix:\n",
    "  print(row)\n"
   ]
  },
  {
   "cell_type": "markdown",
   "id": "293d3706",
   "metadata": {},
   "source": [
    "**Ans 8.** To multiply two sparse matrices `mat1` and `mat2`, we can optimize the multiplication by only performing calculations on non-zero elements. Here's an optimized approach to solve this problem:\n",
    "\n",
    "1. Initialize an empty result matrix `result` of size m x n, where m is the number of rows in `mat1` and n is the number of columns in `mat2`.\n",
    "2. Create a dictionary `sparse_mat1` to store the non-zero elements of `mat1`. The keys of the dictionary will be the row indices, and the values will be dictionaries where the keys are the column indices and the values are the corresponding elements.\n",
    "3. Iterate through the rows of `mat2` and do the following for each row:\n",
    "   - Iterate through the columns of `mat2` and do the following for each column:\n",
    "     - Initialize a variable `temp` to store the result of the dot product.\n",
    "     - Iterate through the non-zero elements of the current row of `mat2` (skip if the element is zero).\n",
    "     - Check if the corresponding element in `mat1` exists (skip if it doesn't).\n",
    "     - Multiply the corresponding elements, add the product to `temp`.\n",
    "   - If `temp` is not zero, assign `temp` to the corresponding element in the `result` matrix.\n",
    "4. Return the `result` matrix.\n",
    "\n",
    "Here's the implementation of the above approach in Python:\n",
    "\n",
    "\n",
    "\n",
    "\n",
    "\n"
   ]
  },
  {
   "cell_type": "code",
   "execution_count": 17,
   "id": "68694bbf",
   "metadata": {},
   "outputs": [
    {
     "name": "stdout",
     "output_type": "stream",
     "text": [
      "[[7, 0, 0], [-7, 0, 0]]\n"
     ]
    }
   ],
   "source": [
    "def multiply(mat1, mat2):\n",
    "    m, k = len(mat1), len(mat1[0])\n",
    "    k, n = len(mat2), len(mat2[0])\n",
    "    result = [[0] * n for _ in range(m)]\n",
    "    sparse_mat1 = {}\n",
    "\n",
    "    for i in range(m):\n",
    "        sparse_mat1[i] = {}\n",
    "        for j in range(k):\n",
    "            if mat1[i][j] != 0:\n",
    "                sparse_mat1[i][j] = mat1[i][j]\n",
    "\n",
    "    for i in range(m):\n",
    "        for j in range(n):\n",
    "            temp = 0\n",
    "            for x in sparse_mat1[i]:\n",
    "                if x in mat2[j]:\n",
    "                    temp += sparse_mat1[i][x] * mat2[j][x]\n",
    "            if temp != 0:\n",
    "                result[i][j] = temp\n",
    "\n",
    "    return result\n",
    "\n",
    "mat1 = [[1, 0, 0], [-1, 0, 3]]\n",
    "mat2 = [[7, 0, 0], [0, 0, 0], [0, 0, 1]]\n",
    "print(multiply(mat1, mat2))\n"
   ]
  },
  {
   "cell_type": "code",
   "execution_count": null,
   "id": "5685e5ce",
   "metadata": {},
   "outputs": [],
   "source": []
  }
 ],
 "metadata": {
  "kernelspec": {
   "display_name": "Python 3 (ipykernel)",
   "language": "python",
   "name": "python3"
  },
  "language_info": {
   "codemirror_mode": {
    "name": "ipython",
    "version": 3
   },
   "file_extension": ".py",
   "mimetype": "text/x-python",
   "name": "python",
   "nbconvert_exporter": "python",
   "pygments_lexer": "ipython3",
   "version": "3.9.12"
  }
 },
 "nbformat": 4,
 "nbformat_minor": 5
}
