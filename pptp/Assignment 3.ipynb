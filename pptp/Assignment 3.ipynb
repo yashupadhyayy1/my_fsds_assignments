{
 "cells": [
  {
   "cell_type": "markdown",
   "id": "a3155936",
   "metadata": {},
   "source": [
    "# ASSIGNMENT 3\n"
   ]
  },
  {
   "cell_type": "markdown",
   "id": "622a8a0d",
   "metadata": {},
   "source": [
    "Ans 1. To find three integers in an integer array `nums` such that their sum is closest to the target, we can use a two-pointer approach along with sorting the array.\n",
    "\n",
    "First, we sort the array in ascending order. Then, we initialize a variable `closest_sum` to a large value to track the closest sum found so far.\n",
    "\n",
    "Next, we iterate through the array using a loop, considering each element as a potential first number in the triplet. For each element, we set two pointers, `left` and `right`, initially pointing to the elements next to the current element.\n",
    "\n",
    "Inside the loop, we calculate the sum of the current triplet and compare it with the target. If the absolute difference between the sum and the target is smaller than the absolute difference between the `closest_sum` and the target, we update `closest_sum` with the current sum.\n",
    "\n",
    "After calculating the sum, we adjust the pointers based on whether the sum is less than or greater than the target. If the sum is less than the target, we increment the `left` pointer to consider a larger number in the next iteration. If the sum is greater than the target, we decrement the `right` pointer to consider a smaller number in the next iteration.\n",
    "\n",
    "We repeat this process until the pointers cross each other, ensuring that we consider all possible combinations of three numbers.\n",
    "\n",
    "Finally, we return the `closest_sum` as the output.\n",
    "\n",
    "Here's the Python code to implement this solution:"
   ]
  },
  {
   "cell_type": "code",
   "execution_count": 1,
   "id": "bb5be4f0",
   "metadata": {},
   "outputs": [
    {
     "name": "stdout",
     "output_type": "stream",
     "text": [
      "2\n"
     ]
    }
   ],
   "source": [
    "def threeSumClosest(nums, target):\n",
    "    nums.sort()\n",
    "    n = len(nums)\n",
    "    closest_sum = float('inf')\n",
    "\n",
    "    for i in range(n - 2):\n",
    "        left = i + 1\n",
    "        right = n - 1\n",
    "\n",
    "        while left < right:\n",
    "            current_sum = nums[i] + nums[left] + nums[right]\n",
    "            if abs(current_sum - target) < abs(closest_sum - target):\n",
    "                closest_sum = current_sum\n",
    "            \n",
    "            if current_sum < target:\n",
    "                left += 1\n",
    "            elif current_sum > target:\n",
    "                right -= 1\n",
    "            else:\n",
    "                return target\n",
    "\n",
    "    return closest_sum\n",
    "\n",
    "nums = [-1, 2, 1, -4]\n",
    "target = 1\n",
    "print(threeSumClosest(nums, target))\n"
   ]
  },
  {
   "cell_type": "markdown",
   "id": "d8dd46ae",
   "metadata": {},
   "source": [
    "Ans 2.To find all unique quadruplets in an array `nums` that sum up to a target value, we can use a combination of sorting the array and a modified version of the two-pointer approach.\n",
    "\n",
    "First, we sort the array in ascending order. Then, we initialize an empty list `result` to store the quadruplets.\n",
    "\n",
    "Next, we iterate through the array using two nested loops to consider each element as a potential first number in the quadruplet. Within these loops, we fix the first number and use a modified two-pointer approach to find the remaining three numbers.\n",
    "\n",
    "Inside the nested loops, we set two pointers, `left` and `right`, initially pointing to the elements next to the current first number. We use these pointers to traverse the remaining part of the array and find pairs of second and third numbers that sum up to the complement of the target minus the first number.\n",
    "\n",
    "As we traverse the array with the pointers, we update their positions based on the sum of the numbers. If the sum is less than the target, we increment the `left` pointer to consider a larger number. If the sum is greater than the target, we decrement the `right` pointer to consider a smaller number. If the sum is equal to the target, we add the quadruplet to the `result` list.\n",
    "\n",
    "To avoid duplicates, we also skip over duplicate values for the first number and the second number in their respective loops.\n",
    "\n",
    "Finally, we return the `result` list as the output.\n",
    "\n",
    "Here's the Python code to implement this solution:\n",
    "\n"
   ]
  },
  {
   "cell_type": "code",
   "execution_count": 3,
   "id": "06e8e71d",
   "metadata": {},
   "outputs": [
    {
     "name": "stdout",
     "output_type": "stream",
     "text": [
      "[[-2, -1, 1, 2], [-2, 0, 0, 2], [-1, 0, 0, 1]]\n"
     ]
    }
   ],
   "source": [
    "def fourSum(nums, target):\n",
    "    nums.sort()\n",
    "    n = len(nums)\n",
    "    result = []\n",
    "\n",
    "    for i in range(n - 3):\n",
    "        if i > 0 and nums[i] == nums[i - 1]:\n",
    "            continue\n",
    "\n",
    "        for j in range(i + 1, n - 2):\n",
    "            if j > i + 1 and nums[j] == nums[j - 1]:\n",
    "                continue\n",
    "\n",
    "            left = j + 1\n",
    "            right = n - 1\n",
    "\n",
    "            while left < right:\n",
    "                current_sum = nums[i] + nums[j] + nums[left] + nums[right]\n",
    "\n",
    "                if current_sum < target:\n",
    "                    left += 1\n",
    "                elif current_sum > target:\n",
    "                    right -= 1\n",
    "                else:\n",
    "                    result.append([nums[i], nums[j], nums[left], nums[right]])\n",
    "\n",
    "                    while left < right and nums[left] == nums[left + 1]:\n",
    "                        left += 1\n",
    "                    while left < right and nums[right] == nums[right - 1]:\n",
    "                        right -= 1\n",
    "\n",
    "                    left += 1\n",
    "                    right -= 1\n",
    "\n",
    "    return result\n",
    "\n",
    "nums = [1, 0, -1, 0, -2, 2]\n",
    "target = 0\n",
    "print(fourSum(nums, target))\n"
   ]
  },
  {
   "cell_type": "markdown",
   "id": "b6537e71",
   "metadata": {},
   "source": [
    "Ans 3.To find the next permutation of an array `nums`, we can follow these steps:\n",
    "\n",
    "1. Start from the rightmost element of the array and find the first pair of adjacent elements `nums[i]` and `nums[i-1]` such that `nums[i-1] < nums[i]`. This step identifies the first element that can be modified to obtain the next lexicographically greater permutation.\n",
    "2. If no such pair is found, it means the given permutation is the last possible permutation, and we need to rearrange the array to its lowest possible order (sorted in ascending order). In this case, we reverse the entire array.\n",
    "3. If a pair is found in step 1, we need to modify the array to obtain the next permutation. To do this, we perform the following steps:\n",
    "   - Starting from the rightmost element, we find the first element `nums[j]` that is greater than `nums[i-1]`.\n",
    "   - We swap `nums[j]` and `nums[i-1]`.\n",
    "   - We reverse the subarray starting from index `i` onwards to obtain the smallest lexicographically permutation.\n",
    "4. After performing the above steps, the array `nums` will be modified to represent the next permutation.\n"
   ]
  },
  {
   "cell_type": "code",
   "execution_count": 4,
   "id": "b85a39a4",
   "metadata": {},
   "outputs": [
    {
     "name": "stdout",
     "output_type": "stream",
     "text": [
      "[1, 3, 2]\n"
     ]
    }
   ],
   "source": [
    "def nextPermutation(nums):\n",
    "    n = len(nums)\n",
    "    i = n - 1\n",
    "\n",
    "    # Find the first pair of adjacent elements where nums[i-1] < nums[i]\n",
    "    while i > 0 and nums[i - 1] >= nums[i]:\n",
    "        i -= 1\n",
    "\n",
    "    if i == 0:\n",
    "        # If no such pair is found, reverse the entire array\n",
    "        nums.reverse()\n",
    "    else:\n",
    "        j = n - 1\n",
    "        # Find the first element greater than nums[i-1] from the right\n",
    "        while nums[j] <= nums[i - 1]:\n",
    "            j -= 1\n",
    "        # Swap nums[j] and nums[i-1]\n",
    "        nums[j], nums[i - 1] = nums[i - 1], nums[j]\n",
    "        # Reverse the subarray starting from index i\n",
    "        nums[i:] = reversed(nums[i:])\n",
    "\n",
    "nums = [1, 2, 3]\n",
    "nextPermutation(nums)\n",
    "print(nums)\n"
   ]
  },
  {
   "cell_type": "markdown",
   "id": "ce3aa9ed",
   "metadata": {},
   "source": [
    "Ans 4.To find the index where the target value would be inserted in a sorted array of distinct integers, we can use a modified binary search algorithm.\n",
    "\n",
    "The idea is to perform a binary search to find the target value in the array. If the target value is found, we return its index. If the target value is not found, we return the index where it would be inserted in order.\n",
    "\n",
    "Here's how the algorithm works:\n",
    "\n",
    "1. Initialize two pointers, `left` and `right`, pointing to the start and end of the array.\n",
    "2. While `left` is less than or equal to `right`, calculate the middle index as `mid = (left + right) // 2`.\n",
    "3. Compare the value at the middle index with the target value:\n",
    "   - If the value at `mid` is equal to the target, return `mid` as the index.\n",
    "   - If the value at `mid` is greater than the target, update `right = mid - 1` to search in the left half of the array.\n",
    "   - If the value at `mid` is less than the target, update `left = mid + 1` to search in the right half of the array.\n",
    "4. If the target is not found in the array, return `left` as the index where it would be inserted in order.\n",
    "\n",
    "Here's the Python code to implement this algorithm:\n",
    "\n"
   ]
  },
  {
   "cell_type": "code",
   "execution_count": 5,
   "id": "3332b6b7",
   "metadata": {},
   "outputs": [
    {
     "name": "stdout",
     "output_type": "stream",
     "text": [
      "2\n"
     ]
    }
   ],
   "source": [
    "def searchInsert(nums, target):\n",
    "    left, right = 0, len(nums) - 1\n",
    "\n",
    "    while left <= right:\n",
    "        mid = (left + right) // 2\n",
    "        if nums[mid] == target:\n",
    "            return mid\n",
    "        elif nums[mid] < target:\n",
    "            left = mid + 1\n",
    "        else:\n",
    "            right = mid - 1\n",
    "\n",
    "    return left\n",
    "\n",
    "nums = [1, 3, 5, 6]\n",
    "target = 5\n",
    "print(searchInsert(nums, target))\n"
   ]
  },
  {
   "cell_type": "markdown",
   "id": "5febaad3",
   "metadata": {},
   "source": [
    "Ans 5. Here is the Python code to increment a large integer represented as an array of digits:"
   ]
  },
  {
   "cell_type": "code",
   "execution_count": 6,
   "id": "a5faa15c",
   "metadata": {},
   "outputs": [],
   "source": [
    "def plus_one(digits):\n",
    "  \"\"\"\n",
    "  Increments a large integer represented as an array of digits.\n",
    "\n",
    "  Args:\n",
    "    digits: A list of digits representing the integer.\n",
    "\n",
    "  Returns:\n",
    "    A list of digits representing the incremented integer.\n",
    "  \"\"\"\n",
    "\n",
    "  carry = 1\n",
    "  for i in range(len(digits) - 1, -1, -1):\n",
    "    digits[i] += carry\n",
    "    carry = digits[i] // 10\n",
    "    digits[i] %= 10\n",
    "\n",
    "  if carry > 0:\n",
    "    digits.append(carry)\n",
    "\n",
    "  return digits\n"
   ]
  },
  {
   "cell_type": "code",
   "execution_count": 7,
   "id": "3bfd3cdc",
   "metadata": {},
   "outputs": [
    {
     "name": "stdout",
     "output_type": "stream",
     "text": [
      "[1, 2, 4]\n"
     ]
    }
   ],
   "source": [
    "digits = [1, 2, 3]\n",
    "\n",
    "result = plus_one(digits)\n",
    "\n",
    "print(result)\n"
   ]
  },
  {
   "cell_type": "markdown",
   "id": "ad33ec6a",
   "metadata": {},
   "source": [
    "Ans 6.To find the single element in an array where every other element appears twice, we can utilize the XOR (exclusive OR) operation. The XOR operation has the property that it returns 0 when applied to two equal values and returns 1 when applied to two different values.\n",
    "\n",
    "Here's how the algorithm works:\n",
    "\n",
    "1. Initialize a variable `result` to 0.\n",
    "2. Iterate through each element `num` in the array.\n",
    "3. Perform the XOR operation between the current `num` and the `result` variable and store the result back in `result`.\n",
    "4. After the loop, the `result` variable will contain the single element that appears only once in the array.\n",
    "\n",
    "Since the XOR operation is both commutative and associative, the order in which we perform the XOR operations does not matter. As a result, all the elements that appear twice in the array will cancel each other out, leaving only the single element in the `result` variable.\n"
   ]
  },
  {
   "cell_type": "code",
   "execution_count": 8,
   "id": "d6c4638c",
   "metadata": {},
   "outputs": [
    {
     "name": "stdout",
     "output_type": "stream",
     "text": [
      "1\n"
     ]
    }
   ],
   "source": [
    "def singleNumber(nums):\n",
    "    result = 0\n",
    "    for num in nums:\n",
    "        result ^= num\n",
    "    return result\n",
    "\n",
    "nums = [2, 2, 1]\n",
    "print(singleNumber(nums))\n"
   ]
  },
  {
   "cell_type": "markdown",
   "id": "3455ba97",
   "metadata": {},
   "source": [
    "Ans 7.To find the shortest sorted list of ranges that covers all the missing numbers within a given range [lower, upper], we can iterate through the sorted unique integer array `nums` and construct the ranges based on the missing numbers.\n",
    "\n",
    "Here's the algorithm:\n",
    "\n",
    "1. Initialize an empty list `result` to store the ranges.\n",
    "2. Initialize a variable `start` with the value `lower` to track the starting point of a range.\n",
    "3. Iterate through each element `num` in the array `nums`.\n",
    "   - If `num` is equal to `start`, increment `start` by 1 to move to the next possible missing number.\n",
    "   - If `num` is greater than `start`, a missing number is found.\n",
    "     - Create a range from `start` to `num - 1` and append it to `result`.\n",
    "     - Update `start` to `num + 1` to continue searching for missing numbers.\n",
    "4. If `start` is less than or equal to `upper`, it means there are missing numbers from `start` to `upper`.\n",
    "   - Create a range from `start` to `upper` and append it to `result`.\n",
    "5. Return `result`, which contains the shortest sorted list of ranges that covers all the missing numbers.\n",
    "\n",
    "\n"
   ]
  },
  {
   "cell_type": "code",
   "execution_count": 9,
   "id": "17f2e4fa",
   "metadata": {},
   "outputs": [
    {
     "name": "stdout",
     "output_type": "stream",
     "text": [
      "[[2, 2], [4, 49], [51, 74], [76, 99]]\n"
     ]
    }
   ],
   "source": [
    "def findMissingRanges(nums, lower, upper):\n",
    "    result = []\n",
    "    start = lower\n",
    "\n",
    "    for num in nums:\n",
    "        if num == start:\n",
    "            start += 1\n",
    "        elif num > start:\n",
    "            result.append([start, num - 1])\n",
    "            start = num + 1\n",
    "\n",
    "    if start <= upper:\n",
    "        result.append([start, upper])\n",
    "\n",
    "    return result\n",
    "\n",
    "nums = [0, 1, 3, 50, 75]\n",
    "lower = 0\n",
    "upper = 99\n",
    "print(findMissingRanges(nums, lower, upper))\n"
   ]
  },
  {
   "cell_type": "markdown",
   "id": "c724586d",
   "metadata": {},
   "source": [
    "**Ans 8**. Here is the Python code to determine if a person could attend all meetings given an array of meeting time intervals:"
   ]
  },
  {
   "cell_type": "code",
   "execution_count": 10,
   "id": "af61a998",
   "metadata": {},
   "outputs": [
    {
     "name": "stdout",
     "output_type": "stream",
     "text": [
      "False\n"
     ]
    }
   ],
   "source": [
    "def can_attend_all_meetings(intervals):\n",
    "  \"\"\"\n",
    "  Determines if a person could attend all meetings in the given array.\n",
    "\n",
    "  Args:\n",
    "    intervals: An array of meeting time intervals.\n",
    "\n",
    "  Returns:\n",
    "    True if the person could attend all meetings, False otherwise.\n",
    "  \"\"\"\n",
    "\n",
    "  intervals.sort()\n",
    "\n",
    "  for i in range(1, len(intervals)):\n",
    "    if intervals[i][0] < intervals[i - 1][1]:\n",
    "      return False\n",
    "\n",
    "  return True\n",
    "\n",
    "intervals = [[0, 30], [5, 10], [15, 20]]\n",
    "\n",
    "can_attend = can_attend_all_meetings(intervals)\n",
    "\n",
    "print(can_attend)\n"
   ]
  },
  {
   "cell_type": "code",
   "execution_count": null,
   "id": "887a17dd",
   "metadata": {},
   "outputs": [],
   "source": []
  }
 ],
 "metadata": {
  "kernelspec": {
   "display_name": "Python 3 (ipykernel)",
   "language": "python",
   "name": "python3"
  },
  "language_info": {
   "codemirror_mode": {
    "name": "ipython",
    "version": 3
   },
   "file_extension": ".py",
   "mimetype": "text/x-python",
   "name": "python",
   "nbconvert_exporter": "python",
   "pygments_lexer": "ipython3",
   "version": "3.9.12"
  }
 },
 "nbformat": 4,
 "nbformat_minor": 5
}
