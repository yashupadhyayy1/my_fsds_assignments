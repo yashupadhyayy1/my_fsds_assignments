{
 "cells": [
  {
   "cell_type": "markdown",
   "id": "1957a54f",
   "metadata": {},
   "source": [
    "# ASSIGNMENT 1"
   ]
  },
  {
   "cell_type": "markdown",
   "id": "13809644",
   "metadata": {},
   "source": [
    "ANS1. To solve this problem, we can use a hash map to store the elements of the array along with their indices. Then, we can iterate through the array and for each element, check if the difference between the target and the current element exists in the hash map. If it does, we have found the two numbers that add up to the target."
   ]
  },
  {
   "cell_type": "code",
   "execution_count": 1,
   "id": "e803d0f3",
   "metadata": {},
   "outputs": [
    {
     "name": "stdout",
     "output_type": "stream",
     "text": [
      "[0, 1]\n"
     ]
    }
   ],
   "source": [
    "def twoSum(nums, target):\n",
    "    num_map = {}\n",
    "    for i, num in enumerate(nums):\n",
    "        complement = target - num\n",
    "        if complement in num_map:\n",
    "            return [num_map[complement], i]\n",
    "        num_map[num] = i\n",
    "    return []\n",
    "\n",
    "nums = [2, 7, 11, 15]\n",
    "target = 9\n",
    "result = twoSum(nums, target)\n",
    "print(result)"
   ]
  },
  {
   "cell_type": "markdown",
   "id": "6ef8834b",
   "metadata": {},
   "source": [
    "ANS2. To solve this problem, we can use two pointers technique. We'll maintain two pointers: one to iterate through the array and another to keep track of the position where the next element not equal to `val` should be placed.\n",
    "\n",
    "Here's the step-by-step approach:\n",
    "\n",
    "1. Initialize a variable `k` to 0. This will keep track of the count of elements not equal to `val`.\n",
    "2. Iterate through the array using a pointer `i`:\n",
    "   - If `nums[i]` is not equal to `val`, set `nums[k]` to `nums[i]` and increment `k` by 1.\n",
    "3. Finally, return the value of `k`, which represents the count of elements not equal to `val`."
   ]
  },
  {
   "cell_type": "code",
   "execution_count": 2,
   "id": "21a2c5ef",
   "metadata": {},
   "outputs": [
    {
     "name": "stdout",
     "output_type": "stream",
     "text": [
      "Output: 2\n",
      "Updated nums: [2, 2]\n"
     ]
    }
   ],
   "source": [
    "def removeElement(nums, val):\n",
    "    k = 0  # Count of elements not equal to val\n",
    "\n",
    "    for i in range(len(nums)):\n",
    "        if nums[i] != val:\n",
    "            nums[k] = nums[i]\n",
    "            k += 1\n",
    "\n",
    "    return k\n",
    "nums = [3, 2, 2, 3]\n",
    "val = 3\n",
    "result = removeElement(nums, val)\n",
    "print(\"Output:\", result)\n",
    "print(\"Updated nums:\", nums[:result])"
   ]
  },
  {
   "cell_type": "markdown",
   "id": "1e4a1317",
   "metadata": {},
   "source": [
    "ANS3. To solve this problem with a runtime complexity of O(log n), we can use the binary search algorithm. \n",
    "\n",
    "Here's how the algorithm works:\n",
    "\n",
    "1. Initialize two pointers, `left` and `right`, representing the start and end indices of the array.\n",
    "2. While `left` is less than or equal to `right`, calculate the middle index as `mid = (left + right) // 2`.\n",
    "3. If the target value is equal to the middle element `nums[mid]`, return `mid` as the target is found.\n",
    "4. If the target value is less than the middle element `nums[mid]`, update `right = mid - 1` to search the left half of the array.\n",
    "5. If the target value is greater than the middle element `nums[mid]`, update `left = mid + 1` to search the right half of the array.\n",
    "6. Repeat steps 2-5 until `left` is greater than `right`.\n",
    "7. If the target value is not found, return the `left` index as the position where it would be inserted in order.\n"
   ]
  },
  {
   "cell_type": "code",
   "execution_count": 3,
   "id": "4e6af857",
   "metadata": {},
   "outputs": [
    {
     "name": "stdout",
     "output_type": "stream",
     "text": [
      "Output: 2\n"
     ]
    }
   ],
   "source": [
    "def searchInsert(nums, target):\n",
    "    left, right = 0, len(nums) - 1\n",
    "\n",
    "    while left <= right:\n",
    "        mid = (left + right) // 2\n",
    "        if nums[mid] == target:\n",
    "            return mid\n",
    "        elif nums[mid] < target:\n",
    "            left = mid + 1\n",
    "        else:\n",
    "            right = mid - 1\n",
    "\n",
    "    return left\n",
    "nums = [1, 3, 5, 6]\n",
    "target = 5\n",
    "result = searchInsert(nums, target)\n",
    "print(\"Output:\", result)"
   ]
  },
  {
   "cell_type": "markdown",
   "id": "41653ce0",
   "metadata": {},
   "source": [
    "ANS4. To solve this problem, we can start from the least significant digit (the last element of the array) and increment it by one. If the resulting digit is less than 10, we can return the updated array. Otherwise, we need to propagate the carry to the more significant digits.\n",
    "\n",
    "Here's the step-by-step approach:\n",
    "\n",
    "1. Initialize a carry variable to 1.\n",
    "2. Iterate through the digits array from right to left:\n",
    "   - Add the carry to the current digit.\n",
    "   - If the resulting digit is less than 10, update the digit and set the carry to 0.\n",
    "   - If the resulting digit is 10, update the digit to 0 and set the carry to 1.\n",
    "3. If the carry is still 1 after the iteration, it means we need to add an additional digit at the beginning of the array with the value 1.\n",
    "4. Return the updated digits array.\n",
    " "
   ]
  },
  {
   "cell_type": "code",
   "execution_count": 4,
   "id": "e0c6ffbb",
   "metadata": {},
   "outputs": [
    {
     "name": "stdout",
     "output_type": "stream",
     "text": [
      "Output: [1, 2, 4]\n"
     ]
    }
   ],
   "source": [
    "def plusOne(digits):\n",
    "    carry = 1\n",
    "    for i in range(len(digits) - 1, -1, -1):\n",
    "        digits[i] += carry\n",
    "        if digits[i] < 10:\n",
    "            carry = 0\n",
    "            break\n",
    "        digits[i] = 0\n",
    "\n",
    "    if carry == 1:\n",
    "        digits.insert(0, 1)\n",
    "\n",
    "    return digits\n",
    "digits = [1, 2, 3]\n",
    "result = plusOne(digits)\n",
    "print(\"Output:\", result)"
   ]
  },
  {
   "cell_type": "markdown",
   "id": "253ba1ec",
   "metadata": {},
   "source": [
    "ANS5. To merge the two sorted arrays `nums1` and `nums2`, we can use a two-pointer approach. We'll start from the end of both arrays and compare the elements at the corresponding positions. We'll then place the larger element at the end of `nums1` and move the pointer accordingly. We'll repeat this process until we have merged all elements from `nums2` into `nums1`.\n",
    "\n",
    "Here's the step-by-step approach:\n",
    "\n",
    "1. Initialize three pointers: `p1` at index `m - 1` (last non-zero element in `nums1`), `p2` at index `n - 1` (last element in `nums2`), and `p` at index `m + n - 1` (end of the merged array).\n",
    "2. While both `p1` and `p2` are greater than or equal to 0:\n",
    "   - If `nums1[p1]` is greater than or equal to `nums2[p2]`, set `nums1[p]` to `nums1[p1]` and decrement `p1` by 1.\n",
    "   - Otherwise, set `nums1[p]` to `nums2[p2]` and decrement `p2` by 1.\n",
    "   - Decrement `p` by 1.\n",
    "3. If there are remaining elements in `nums2`, copy them to the beginning of `nums1`.\n",
    "4. Return the updated `nums1` array."
   ]
  },
  {
   "cell_type": "code",
   "execution_count": 5,
   "id": "f83488ae",
   "metadata": {},
   "outputs": [
    {
     "name": "stdout",
     "output_type": "stream",
     "text": [
      "Output: [1, 2, 2, 3, 5, 6]\n"
     ]
    }
   ],
   "source": [
    "def merge(nums1, m, nums2, n):\n",
    "    p1, p2, p = m - 1, n - 1, m + n - 1\n",
    "\n",
    "    while p1 >= 0 and p2 >= 0:\n",
    "        if nums1[p1] >= nums2[p2]:\n",
    "            nums1[p] = nums1[p1]\n",
    "            p1 -= 1\n",
    "        else:\n",
    "            nums1[p] = nums2[p2]\n",
    "            p2 -= 1\n",
    "        p -= 1\n",
    "\n",
    "    if p2 >= 0:\n",
    "        nums1[:p2 + 1] = nums2[:p2 + 1]\n",
    "\n",
    "    return nums1\n",
    "nums1 = [1, 2, 3, 0, 0, 0]\n",
    "m = 3\n",
    "nums2 = [2, 5, 6]\n",
    "n = 3\n",
    "result = merge(nums1, m, nums2, n)\n",
    "print(\"Output:\", result)"
   ]
  },
  {
   "cell_type": "markdown",
   "id": "10a75e6a",
   "metadata": {},
   "source": [
    "ANS6. To check if any value appears at least twice in the given array `nums`, we can use a hash set data structure. We'll iterate through the array and for each element, check if it is already present in the hash set. If it is, we have found a duplicate value and we can return `True`. If we reach the end of the array without finding any duplicates, we can return `False`.\n",
    "\n",
    "Here's the step-by-step approach:\n",
    "\n",
    "1. Initialize an empty hash set.\n",
    "2. Iterate through each element `num` in `nums`:\n",
    "   - If `num` is already present in the hash set, return `True` as we have found a duplicate.\n",
    "   - Otherwise, add `num` to the hash set.\n",
    "3. Return `False` if no duplicates are found.\n",
    "\n"
   ]
  },
  {
   "cell_type": "code",
   "execution_count": 6,
   "id": "0159224a",
   "metadata": {},
   "outputs": [
    {
     "name": "stdout",
     "output_type": "stream",
     "text": [
      "Output: True\n"
     ]
    }
   ],
   "source": [
    "def containsDuplicate(nums):\n",
    "    num_set = set()\n",
    "\n",
    "    for num in nums:\n",
    "        if num in num_set:\n",
    "            return True\n",
    "        num_set.add(num)\n",
    "\n",
    "    return False\n",
    "nums = [1, 2, 3, 1]\n",
    "result = containsDuplicate(nums)\n",
    "print(\"Output:\", result)\n"
   ]
  },
  {
   "cell_type": "markdown",
   "id": "1d88f952",
   "metadata": {},
   "source": [
    "ANS7. To move all the zeros to the end of the given array `nums` while maintaining the relative order of the nonzero elements, we can use the two-pointer technique. We'll maintain two pointers, `left` and `right`, where `left` points to the next position to be filled with a nonzero element, and `right` scans the array for nonzero elements.\n",
    "\n",
    "Here's the step-by-step approach:\n",
    "\n",
    "1. Initialize `left` and `right` pointers to 0.\n",
    "2. While the `right` pointer is within the bounds of the array:\n",
    "   - If the element at `right` is not zero, swap it with the element at `left` and increment both `left` and `right`.\n",
    "   - If the element at `right` is zero, increment only the `right` pointer.\n",
    "3. After the loop ends, all nonzero elements will be placed at the beginning of the array in their original order.\n",
    "4. To fill the remaining positions with zeros, iterate from `left` to the end of the array and set all elements to zero.\n"
   ]
  },
  {
   "cell_type": "code",
   "execution_count": 7,
   "id": "9bc5f84b",
   "metadata": {},
   "outputs": [
    {
     "name": "stdout",
     "output_type": "stream",
     "text": [
      "Output: [1, 3, 12, 0, 0]\n"
     ]
    }
   ],
   "source": [
    "def moveZeroes(nums):\n",
    "    left = 0\n",
    "    right = 0\n",
    "\n",
    "    while right < len(nums):\n",
    "        if nums[right] != 0:\n",
    "            nums[left], nums[right] = nums[right], nums[left]\n",
    "            left += 1\n",
    "        right += 1\n",
    "\n",
    "    for i in range(left, len(nums)):\n",
    "        nums[i] = 0\n",
    "\n",
    "    return nums\n",
    "nums = [0, 1, 0, 3, 12]\n",
    "result = moveZeroes(nums)\n",
    "print(\"Output:\", result)"
   ]
  },
  {
   "cell_type": "markdown",
   "id": "12d5a1de",
   "metadata": {},
   "source": [
    "ANS8 . To find the number that occurs twice and the number that is missing in the given array `nums`, we can utilize the concept of XOR. We'll use XOR to find the missing and duplicate numbers separately.\n",
    "\n",
    "Here's the step-by-step approach:\n",
    "\n",
    "1. Initialize a variable `xor_result` to 0.\n",
    "2. Iterate through each element `num` in `nums`:\n",
    "   - Update `xor_result` by performing the XOR operation between `xor_result` and `num`.\n",
    "   - Update `xor_result` by performing the XOR operation between `xor_result` and the index `i + 1`.\n",
    "3. Find the rightmost set bit (bit with value 1) in `xor_result` using the formula `rightmost_set_bit = xor_result & -xor_result`.\n",
    "4. Initialize two variables `missing` and `duplicate` to 0.\n",
    "5. Iterate through each element `num` in `nums`:\n",
    "   - If `num` has the same rightmost set bit as `xor_result`:\n",
    "     - Update `missing` by performing the XOR operation between `missing` and `num`.\n",
    "   - If the index `i + 1` has the same rightmost set bit as `xor_result`:\n",
    "     - Update `missing` by performing the XOR operation between `missing` and the index `i + 1`.\n",
    "6. Update `duplicate` by performing the XOR operation between `missing` and `xor_result`.\n",
    "7. Return the array `[duplicate, missing]`.\n",
    "\n"
   ]
  },
  {
   "cell_type": "code",
   "execution_count": 8,
   "id": "22176b72",
   "metadata": {},
   "outputs": [
    {
     "name": "stdout",
     "output_type": "stream",
     "text": [
      "Output: [2, 3]\n"
     ]
    }
   ],
   "source": [
    "def findErrorNums(nums):\n",
    "    xor_result = 0\n",
    "\n",
    "    for i, num in enumerate(nums):\n",
    "        xor_result ^= num\n",
    "        xor_result ^= i + 1\n",
    "\n",
    "    rightmost_set_bit = xor_result & -xor_result\n",
    "\n",
    "    missing = 0\n",
    "    duplicate = 0\n",
    "\n",
    "    for i, num in enumerate(nums):\n",
    "        if num & rightmost_set_bit:\n",
    "            missing ^= num\n",
    "        if (i + 1) & rightmost_set_bit:\n",
    "            missing ^= i + 1\n",
    "\n",
    "    duplicate = missing ^ xor_result\n",
    "\n",
    "    return [duplicate, missing]\n",
    "nums = [1, 2, 2, 4]\n",
    "result = findErrorNums(nums)\n",
    "print(\"Output:\", result)"
   ]
  },
  {
   "cell_type": "code",
   "execution_count": null,
   "id": "cb55af14",
   "metadata": {},
   "outputs": [],
   "source": []
  }
 ],
 "metadata": {
  "kernelspec": {
   "display_name": "Python 3 (ipykernel)",
   "language": "python",
   "name": "python3"
  },
  "language_info": {
   "codemirror_mode": {
    "name": "ipython",
    "version": 3
   },
   "file_extension": ".py",
   "mimetype": "text/x-python",
   "name": "python",
   "nbconvert_exporter": "python",
   "pygments_lexer": "ipython3",
   "version": "3.9.12"
  }
 },
 "nbformat": 4,
 "nbformat_minor": 5
}
