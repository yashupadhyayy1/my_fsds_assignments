{
 "cells": [
  {
   "cell_type": "markdown",
   "id": "84a13eda",
   "metadata": {},
   "source": [
    "# ASSIGNMENT 4"
   ]
  },
  {
   "cell_type": "markdown",
   "id": "a5bbdc34",
   "metadata": {},
   "source": [
    "**Ans 1.** To find the integers that appear in all three sorted arrays, we can use a common approach known as the \"Three Pointers\" technique.\n",
    "\n",
    "Here's how the algorithm works:\n",
    "\n",
    "1. Initialize three pointers `i`, `j`, and `k` to 0, representing the current indices of `arr1`, `arr2`, and `arr3`, respectively.\n",
    "2. Initialize an empty list `result` to store the common integers.\n",
    "3. While `i`, `j`, and `k` are within the bounds of their respective arrays:\n",
    "   - If `arr1[i]`, `arr2[j]`, and `arr3[k]` are equal, it means that we have found a common integer. Append it to `result` and increment all three pointers.\n",
    "   - If `arr1[i]` is smaller than either `arr2[j]` or `arr3[k]`, increment `i` to move to the next element in `arr1`.\n",
    "   - If `arr2[j]` is smaller than either `arr1[i]` or `arr3[k]`, increment `j` to move to the next element in `arr2`.\n",
    "   - If `arr3[k]` is smaller than either `arr1[i]` or `arr2[j]`, increment `k` to move to the next element in `arr3`.\n",
    "4. Return `result`, which contains the sorted array of integers that appeared in all three arrays.\n",
    "\n",
    "Here's the Python code to implement this algorithm:\n",
    "\n"
   ]
  },
  {
   "cell_type": "code",
   "execution_count": 1,
   "id": "2070e9bd",
   "metadata": {},
   "outputs": [
    {
     "name": "stdout",
     "output_type": "stream",
     "text": [
      "[1, 5]\n"
     ]
    }
   ],
   "source": [
    "def arraysIntersection(arr1, arr2, arr3):\n",
    "    i, j, k = 0, 0, 0\n",
    "    result = []\n",
    "\n",
    "    while i < len(arr1) and j < len(arr2) and k < len(arr3):\n",
    "        if arr1[i] == arr2[j] == arr3[k]:\n",
    "            result.append(arr1[i])\n",
    "            i += 1\n",
    "            j += 1\n",
    "            k += 1\n",
    "        elif arr1[i] < arr2[j]:\n",
    "            i += 1\n",
    "        elif arr2[j] < arr3[k]:\n",
    "            j += 1\n",
    "        else:\n",
    "            k += 1\n",
    "\n",
    "    return result\n",
    "\n",
    "arr1 = [1, 2, 3, 4, 5]\n",
    "arr2 = [1, 2, 5, 7, 9]\n",
    "arr3 = [1, 3, 4, 5, 8]\n",
    "print(arraysIntersection(arr1, arr2, arr3))\n"
   ]
  },
  {
   "cell_type": "markdown",
   "id": "fd56fa73",
   "metadata": {},
   "source": [
    "**Ans 2.** Here is the Python code to find distinct integers in two arrays:"
   ]
  },
  {
   "cell_type": "code",
   "execution_count": 2,
   "id": "2a68fc86",
   "metadata": {},
   "outputs": [
    {
     "name": "stdout",
     "output_type": "stream",
     "text": [
      "[[[1, 3]], [[4, 6]]]\n"
     ]
    }
   ],
   "source": [
    "def find_distinct_integers(nums1, nums2):\n",
    "  \"\"\"\n",
    "  Finds the distinct integers in two arrays.\n",
    "\n",
    "  Args:\n",
    "    nums1: The first array.\n",
    "    nums2: The second array.\n",
    "\n",
    "  Returns:\n",
    "    A list of lists, where the first list contains the distinct integers in nums1 that are not present in nums2, and the second list contains the distinct integers in nums2 that are not present in nums1.\n",
    "  \"\"\"\n",
    "\n",
    "  # Create a set of all the integers in nums1.\n",
    "  nums1_set = set(nums1)\n",
    "\n",
    "  # Create a list of all the integers in nums2 that are not present in nums1.\n",
    "  nums2_not_in_nums1 = [num for num in nums2 if num not in nums1_set]\n",
    "\n",
    "  # Create a set of all the integers in nums2.\n",
    "  nums2_set = set(nums2)\n",
    "\n",
    "  # Create a list of all the integers in nums1 that are not present in nums2.\n",
    "  nums1_not_in_nums2 = [num for num in nums1 if num not in nums2_set]\n",
    "\n",
    "  # Return a list of lists containing the distinct integers in nums1 and nums2.\n",
    "  return [[nums1_not_in_nums2], [nums2_not_in_nums1]]\n",
    "\n",
    "nums1 = [1, 2, 3]\n",
    "nums2 = [2, 4, 6]\n",
    "\n",
    "answer = find_distinct_integers(nums1, nums2)\n",
    "\n",
    "print(answer)\n"
   ]
  },
  {
   "cell_type": "markdown",
   "id": "1d06735c",
   "metadata": {},
   "source": [
    "**Ans 3.** To obtain the transpose of a matrix, we can iterate over the rows and columns of the matrix and swap the elements at indices `(i, j)` and `(j, i)`. This process effectively flips the matrix over its main diagonal.\n",
    "\n",
    "Here's the algorithm to compute the transpose of a matrix:\n",
    "\n",
    "1. Initialize an empty 2D list `transpose` with dimensions `n` x `m`, where `n` is the number of rows in the original matrix and `m` is the number of columns.\n",
    "2. Iterate over the rows of the original matrix using index `i` from `0` to `n-1`:\n",
    "   - Iterate over the columns of the original matrix using index `j` from `0` to `m-1`:\n",
    "     - Set `transpose[j][i]` to be the element at index `(i, j)` of the original matrix.\n",
    "3. Return the `transpose` matrix.\n",
    "\n",
    "Here's the Python code to implement this algorithm:\n",
    "\n"
   ]
  },
  {
   "cell_type": "code",
   "execution_count": 3,
   "id": "1fdcb0ed",
   "metadata": {},
   "outputs": [
    {
     "name": "stdout",
     "output_type": "stream",
     "text": [
      "[[1, 4, 7], [2, 5, 8], [3, 6, 9]]\n"
     ]
    }
   ],
   "source": [
    "def transpose(matrix):\n",
    "    n = len(matrix)\n",
    "    m = len(matrix[0])\n",
    "\n",
    "    transpose = [[0] * n for _ in range(m)]\n",
    "\n",
    "    for i in range(n):\n",
    "        for j in range(m):\n",
    "            transpose[j][i] = matrix[i][j]\n",
    "\n",
    "    return transpose\n",
    "\n",
    "matrix = [[1, 2, 3], [4, 5, 6], [7, 8, 9]]\n",
    "print(transpose(matrix))\n"
   ]
  },
  {
   "cell_type": "markdown",
   "id": "e2d161ff",
   "metadata": {},
   "source": [
    "**Ans 4.** Here is the Python code to solve this problem:"
   ]
  },
  {
   "cell_type": "code",
   "execution_count": 4,
   "id": "79a11acb",
   "metadata": {},
   "outputs": [
    {
     "name": "stdout",
     "output_type": "stream",
     "text": [
      "3\n"
     ]
    }
   ],
   "source": [
    "def max_pairwise_sum(nums):\n",
    "  \"\"\"\n",
    "  Finds the maximum sum of min(ai, bi) for all i in a list of pairs (ai, bi).\n",
    "\n",
    "  Args:\n",
    "    nums: A list of integers.\n",
    "\n",
    "  Returns:\n",
    "    The maximum sum of min(ai, bi) for all i.\n",
    "  \"\"\"\n",
    "\n",
    "  # Sort the numbers in ascending order.\n",
    "  nums.sort()\n",
    "\n",
    "  # Create a list of pairs, where each pair contains the minimum of the two numbers at that index.\n",
    "  pairs = []\n",
    "  for i in range(0, len(nums), 2):\n",
    "    pairs.append((nums[i], nums[i + 1]))\n",
    "\n",
    "  # Find the maximum sum of min(ai, bi) for all i.\n",
    "  max_sum = 0\n",
    "  for pair in pairs:\n",
    "    max_sum = max(max_sum, min(pair[0], pair[1]))\n",
    "\n",
    "  # Return the maximum sum.\n",
    "  return max_sum\n",
    "\n",
    "nums = [1, 4, 3, 2]\n",
    "\n",
    "max_sum = max_pairwise_sum(nums)\n",
    "\n",
    "print(max_sum)\n"
   ]
  },
  {
   "cell_type": "markdown",
   "id": "250bc113",
   "metadata": {},
   "source": [
    "**Ans 5.** To determine the number of complete rows in a staircase, we can use a simple mathematical approach.\n",
    "\n",
    "Let's assume that we have `k` complete rows in the staircase. The total number of coins needed to build these complete rows can be calculated using the formula for the sum of an arithmetic series:\n",
    "\n",
    "`total_coins = 1 + 2 + 3 + ... + k = k * (k + 1) / 2`\n",
    "\n",
    "We need to find the largest value of `k` such that `total_coins` is less than or equal to `n`. This can be done through a binary search.\n",
    "\n",
    "Here's the algorithm to find the number of complete rows:\n",
    "\n",
    "1. Initialize the variables `left` and `right` to 1 and `n`, respectively. These represent the lower and upper bounds for the binary search.\n",
    "2. While `left` is less than or equal to `right`:\n",
    "   - Calculate the midpoint `mid` as `(left + right) // 2`.\n",
    "   - Calculate the total number of coins `total_coins` using the formula `total_coins = mid * (mid + 1) // 2`.\n",
    "   - If `total_coins` is less than or equal to `n`, update `left` to `mid + 1`.\n",
    "   - Otherwise, update `right` to `mid - 1`.\n",
    "3. Return `right` as the number of complete rows.\n",
    "\n",
    "Here's the Python code to implement this algorithm:\n",
    "\n"
   ]
  },
  {
   "cell_type": "code",
   "execution_count": 5,
   "id": "0b976faa",
   "metadata": {},
   "outputs": [
    {
     "name": "stdout",
     "output_type": "stream",
     "text": [
      "2\n"
     ]
    }
   ],
   "source": [
    "def arrangeCoins(n):\n",
    "    left, right = 1, n\n",
    "\n",
    "    while left <= right:\n",
    "        mid = (left + right) // 2\n",
    "        total_coins = mid * (mid + 1) // 2\n",
    "\n",
    "        if total_coins <= n:\n",
    "            left = mid + 1\n",
    "        else:\n",
    "            right = mid - 1\n",
    "\n",
    "    return right\n",
    "\n",
    "n = 5\n",
    "print(arrangeCoins(n))\n",
    "\n"
   ]
  },
  {
   "cell_type": "markdown",
   "id": "41120d97",
   "metadata": {},
   "source": [
    "**Ans 6.** Here is the code to solve the problem:"
   ]
  },
  {
   "cell_type": "code",
   "execution_count": 6,
   "id": "ddc3f414",
   "metadata": {},
   "outputs": [
    {
     "name": "stdout",
     "output_type": "stream",
     "text": [
      "[0, 1, 9, 16, 100]\n"
     ]
    }
   ],
   "source": [
    "def sorted_squares(nums):\n",
    "  \"\"\"\n",
    "  Given an integer array nums sorted in non-decreasing order, return an array of the squares of each number sorted in non-decreasing order.\n",
    "\n",
    "  Args:\n",
    "    nums: An integer array sorted in non-decreasing order.\n",
    "\n",
    "  Returns:\n",
    "    An array of the squares of each number in nums, sorted in non-decreasing order.\n",
    "  \"\"\"\n",
    "\n",
    "  # Create two pointers, one pointing to the beginning of the array and one pointing to the end.\n",
    "  left = 0\n",
    "  right = len(nums) - 1\n",
    "\n",
    "  # Create a new array to store the squares of the numbers in nums.\n",
    "  squares = []\n",
    "\n",
    "  # Iterate through the array, squaring each number and adding it to the new array.\n",
    "  while left <= right:\n",
    "    # If the left number is less than or equal to the right number, square the left number and add it to the new array.\n",
    "    if nums[left] <= nums[right]:\n",
    "      squares.append(nums[left] ** 2)\n",
    "      left += 1\n",
    "    else:\n",
    "      # Otherwise, square the right number and add it to the new array.\n",
    "      squares.append(nums[right] ** 2)\n",
    "      right -= 1\n",
    "\n",
    "  # Sort the new array in non-decreasing order.\n",
    "  squares.sort()\n",
    "\n",
    "  # Return the new array.\n",
    "  return squares\n",
    "\n",
    "nums = [-4, -1, 0, 3, 10]\n",
    "\n",
    "# Square the numbers in nums and sort them in non-decreasing order.\n",
    "squares = sorted_squares(nums)\n",
    "\n",
    "# Print the squares.\n",
    "print(squares)\n"
   ]
  },
  {
   "cell_type": "markdown",
   "id": "a54352f0",
   "metadata": {},
   "source": [
    "**Ans 7.** Here is the code to solve the problem"
   ]
  },
  {
   "cell_type": "code",
   "execution_count": 7,
   "id": "27364572",
   "metadata": {},
   "outputs": [
    {
     "name": "stdout",
     "output_type": "stream",
     "text": [
      "4\n"
     ]
    }
   ],
   "source": [
    "def count_max_integers(m, n, ops):\n",
    "  \"\"\"\n",
    "  Count the number of maximum integers in a matrix after performing all the operations.\n",
    "\n",
    "  Args:\n",
    "    m: The number of rows in the matrix.\n",
    "    n: The number of columns in the matrix.\n",
    "    ops: An array of operations, where ops[i] = [ai, bi] means M[x][y] should be incremented by one for all 0 <= x < ai and 0 <= y < bi.\n",
    "\n",
    "  Returns:\n",
    "    The number of maximum integers in the matrix after performing all the operations.\n",
    "  \"\"\"\n",
    "\n",
    "  # Create a matrix to store the incremented values.\n",
    "  M = [[0 for j in range(n)] for i in range(m)]\n",
    "\n",
    "  # Iterate through the operations and increment the corresponding values in the matrix.\n",
    "  for op in ops:\n",
    "    for i in range(op[0]):\n",
    "      for j in range(op[1]):\n",
    "        M[i][j] += 1\n",
    "\n",
    "  # Find the maximum value in the matrix.\n",
    "  max_value = max(M[i][j] for i in range(m) for j in range(n))\n",
    "\n",
    "  # Count the number of times the maximum value appears in the matrix.\n",
    "  count = 0\n",
    "  for i in range(m):\n",
    "    for j in range(n):\n",
    "      if M[i][j] == max_value:\n",
    "        count += 1\n",
    "\n",
    "  # Return the count.\n",
    "  return count\n",
    "\n",
    "m = 3\n",
    "n = 3\n",
    "ops = [[2, 2], [3, 3]]\n",
    "\n",
    "# Count the number of maximum integers in the matrix.\n",
    "count = count_max_integers(m, n, ops)\n",
    "\n",
    "# Print the count.\n",
    "print(count)\n"
   ]
  },
  {
   "cell_type": "markdown",
   "id": "02361103",
   "metadata": {},
   "source": [
    "**Ans 8.** To convert the given array `nums` into the desired form, we can iterate over the array and construct the output array by interleaving the elements.\n",
    "\n",
    "Here's the algorithm to rearrange the array:\n",
    "\n",
    "1. Create an empty array `result` to store the rearranged elements.\n",
    "2. Iterate over the array `nums` from index `i` from `0` to `n-1` (inclusive):\n",
    "   - Append `nums[i]` to `result`.\n",
    "   - Append `nums[i+n]` to `result`.\n",
    "3. Return `result`.\n",
    "\n",
    "Here's the Python code to implement this algorithm:\n",
    "\n"
   ]
  },
  {
   "cell_type": "code",
   "execution_count": 8,
   "id": "c555b5b6",
   "metadata": {},
   "outputs": [
    {
     "name": "stdout",
     "output_type": "stream",
     "text": [
      "[2, 3, 5, 4, 1, 7]\n"
     ]
    }
   ],
   "source": [
    "def rearrangeArray(nums, n):\n",
    "    result = []\n",
    "\n",
    "    for i in range(n):\n",
    "        result.append(nums[i])\n",
    "        result.append(nums[i + n])\n",
    "\n",
    "    return result\n",
    "\n",
    "nums = [2, 5, 1, 3, 4, 7]\n",
    "n = 3\n",
    "print(rearrangeArray(nums, n))\n",
    "\n"
   ]
  },
  {
   "cell_type": "code",
   "execution_count": null,
   "id": "40ff12c7",
   "metadata": {},
   "outputs": [],
   "source": []
  }
 ],
 "metadata": {
  "kernelspec": {
   "display_name": "Python 3 (ipykernel)",
   "language": "python",
   "name": "python3"
  },
  "language_info": {
   "codemirror_mode": {
    "name": "ipython",
    "version": 3
   },
   "file_extension": ".py",
   "mimetype": "text/x-python",
   "name": "python",
   "nbconvert_exporter": "python",
   "pygments_lexer": "ipython3",
   "version": "3.9.12"
  }
 },
 "nbformat": 4,
 "nbformat_minor": 5
}
