{
 "cells": [
  {
   "cell_type": "markdown",
   "id": "2a8d2ebf",
   "metadata": {},
   "source": [
    "# Assignment 8\n"
   ]
  },
  {
   "cell_type": "markdown",
   "id": "eb9bd314",
   "metadata": {},
   "source": [
    "**Ans.1** To find the lowest ASCII sum of deleted characters to make two strings equal, you can use dynamic programming approach. Let's consider a dynamic programming table `dp`, where `dp[i][j]` represents the lowest ASCII sum of deleted characters to make `s1[0...i-1]` and `s2[0...j-1]` equal.\n",
    "\n",
    "The dynamic programming algorithm can be outlined as follows:\n",
    "\n",
    "1. Initialize the dynamic programming table `dp` with dimensions `(len(s1)+1) x (len(s2)+1)`.\n",
    "2. Initialize the first row and first column of `dp` with cumulative ASCII sums of characters.\n",
    "   - `dp[i][0] = dp[i-1][0] + ord(s1[i-1])` for `1 <= i <= len(s1)`\n",
    "   - `dp[0][j] = dp[0][j-1] + ord(s2[j-1])` for `1 <= j <= len(s2)`\n",
    "3. Iterate over the remaining cells of the dynamic programming table in row-major order:\n",
    "   - If `s1[i-1]` is equal to `s2[j-1]`, then `dp[i][j] = dp[i-1][j-1]`.\n",
    "   - Otherwise, take the minimum of the following:\n",
    "     - `dp[i-1][j] + ord(s1[i-1])` (delete character from `s1`)\n",
    "     - `dp[i][j-1] + ord(s2[j-1])` (delete character from `s2`)\n",
    "\n",
    "After filling the entire dynamic programming table, the value in `dp[len(s1)][len(s2)]` will represent the lowest ASCII sum of deleted characters to make the two strings equal. You can return this value as the output.\n",
    "\n",
    "Here's the implementation of the algorithm in Python:\n",
    "\n",
    "```python\n"
   ]
  },
  {
   "cell_type": "code",
   "execution_count": 1,
   "id": "289c59e8",
   "metadata": {},
   "outputs": [
    {
     "data": {
      "text/plain": [
       "231"
      ]
     },
     "execution_count": 1,
     "metadata": {},
     "output_type": "execute_result"
    }
   ],
   "source": [
    "def minimumDeleteSum(s1, s2):\n",
    "    m, n = len(s1), len(s2)\n",
    "    dp = [[0] * (n+1) for _ in range(m+1)]\n",
    "\n",
    "    for i in range(1, m+1):\n",
    "        dp[i][0] = dp[i-1][0] + ord(s1[i-1])\n",
    "\n",
    "    for j in range(1, n+1):\n",
    "        dp[0][j] = dp[0][j-1] + ord(s2[j-1])\n",
    "\n",
    "    for i in range(1, m+1):\n",
    "        for j in range(1, n+1):\n",
    "            if s1[i-1] == s2[j-1]:\n",
    "                dp[i][j] = dp[i-1][j-1]\n",
    "            else:\n",
    "                dp[i][j] = min(dp[i-1][j] + ord(s1[i-1]), dp[i][j-1] + ord(s2[j-1]))\n",
    "\n",
    "    return dp[m][n]\n",
    "minimumDeleteSum(\"sea\", \"eat\")"
   ]
  },
  {
   "cell_type": "markdown",
   "id": "df9718e7",
   "metadata": {},
   "source": [
    "**Ans.4** Here is the code to check if a string is valid using parenthesis and star:\n",
    "\n",
    "* The `stack` variable is used to keep track of the open parenthesis.\n",
    "* For each character in the string, we check the following:\n",
    "    * If the character is a left parenthesis, we push it onto the stack.\n",
    "    * If the character is a right parenthesis, we pop a character off the stack. If the stack is empty or the top of the stack is not a left parenthesis, then the string is invalid.\n",
    "    * If the character is a star, we pop a character off the stack. If the stack is empty, then the string is invalid.\n",
    "* After iterating through the entire string, we check if the stack is empty. If it is, then the string is valid. Otherwise, the string is invalid.\n",
    "\n",
    "Here are some examples of valid and invalid strings:\n"
   ]
  },
  {
   "cell_type": "code",
   "execution_count": 3,
   "id": "56e5a509",
   "metadata": {},
   "outputs": [
    {
     "data": {
      "text/plain": [
       "True"
      ]
     },
     "execution_count": 3,
     "metadata": {},
     "output_type": "execute_result"
    }
   ],
   "source": [
    "\n",
    "def is_valid(s):\n",
    "  \"\"\"\n",
    "  Checks if a string is valid using parenthesis and star.\n",
    "\n",
    "  Args:\n",
    "    s: A string containing only parenthesis and star characters.\n",
    "\n",
    "  Returns:\n",
    "    True if the string is valid, False otherwise.\n",
    "  \"\"\"\n",
    "\n",
    "  stack = []\n",
    "  for c in s:\n",
    "    if c == '(':\n",
    "      stack.append(c)\n",
    "    elif c == ')':\n",
    "      if len(stack) == 0 or stack.pop() != '(':\n",
    "        return False\n",
    "    elif c == '*':\n",
    "      if len(stack) == 0:\n",
    "        return False\n",
    "      stack.pop()\n",
    "  return len(stack) == 0\n",
    "is_valid(\"(()())\")"
   ]
  },
  {
   "cell_type": "markdown",
   "id": "9f4b1eaa",
   "metadata": {},
   "source": [
    "**Ans.3** To find the minimum number of steps required to make two strings `word1` and `word2` the same, you can use a dynamic programming approach. Let's consider a dynamic programming table `dp`, where `dp[i][j]` represents the minimum number of steps required to make `word1[0...i-1]` and `word2[0...j-1]` the same.\n",
    "\n",
    "The dynamic programming algorithm can be outlined as follows:\n",
    "\n",
    "1. Initialize the dynamic programming table `dp` with dimensions `(len(word1)+1) x (len(word2)+1)`.\n",
    "2. Initialize the first row and first column of `dp` as the cumulative deletions required:\n",
    "   - `dp[i][0] = i` for `0 <= i <= len(word1)`\n",
    "   - `dp[0][j] = j` for `0 <= j <= len(word2)`\n",
    "3. Iterate over the remaining cells of the dynamic programming table in row-major order:\n",
    "   - If `word1[i-1]` is equal to `word2[j-1]`, then `dp[i][j] = dp[i-1][j-1]`.\n",
    "   - Otherwise, take the minimum of the following:\n",
    "     - `dp[i-1][j] + 1` (delete character from `word1`)\n",
    "     - `dp[i][j-1] + 1` (delete character from `word2`)\n",
    "\n",
    "After filling the entire dynamic programming table, the value in `dp[len(word1)][len(word2)]` will represent the minimum number of steps required to make the two strings the same. You can return this value as the output.\n",
    "\n",
    "Here's the implementation of the algorithm in Python:\n",
    "\n"
   ]
  },
  {
   "cell_type": "code",
   "execution_count": 4,
   "id": "aae79385",
   "metadata": {},
   "outputs": [
    {
     "data": {
      "text/plain": [
       "2"
      ]
     },
     "execution_count": 4,
     "metadata": {},
     "output_type": "execute_result"
    }
   ],
   "source": [
    "def minDistance(word1, word2):\n",
    "    m, n = len(word1), len(word2)\n",
    "    dp = [[0] * (n+1) for _ in range(m+1)]\n",
    "\n",
    "    for i in range(m+1):\n",
    "        dp[i][0] = i\n",
    "\n",
    "    for j in range(n+1):\n",
    "        dp[0][j] = j\n",
    "\n",
    "    for i in range(1, m+1):\n",
    "        for j in range(1, n+1):\n",
    "            if word1[i-1] == word2[j-1]:\n",
    "                dp[i][j] = dp[i-1][j-1]\n",
    "            else:\n",
    "                dp[i][j] = min(dp[i-1][j] + 1, dp[i][j-1] + 1)\n",
    "\n",
    "    return dp[m][n]\n",
    "\n",
    "minDistance(\"sea\", \"eat\")"
   ]
  },
  {
   "cell_type": "markdown",
   "id": "269a53d6",
   "metadata": {},
   "source": [
    "**Ans.4** To construct a binary tree from a string representation, we can use a recursive approach. We'll define a recursive function that takes the string and a pointer to keep track of the current position. The function will build the binary tree recursively based on the provided rules.\n",
    "\n",
    "The algorithm can be outlined as follows:\n",
    "\n",
    "Initialize a pointer pos to keep track of the current position in the string.\n",
    "Implement the recursive function buildTree that takes the string s and the pointer pos as parameters:\n",
    "Create an empty list tree to represent the current binary tree.\n",
    "Read the value at s[pos] and convert it to an integer. Add it as the root value to the tree list.\n",
    "Increment the pos pointer.\n",
    "If s[pos] is an opening parenthesis \"(\":\n",
    "Recursively call buildTree to construct the left child of the current node and append the returned subtree to the tree list.\n",
    "Increment the pos pointer.\n",
    "If s[pos] is an opening parenthesis \"(\":\n",
    "Recursively call buildTree to construct the right child of the current node and append the returned subtree to the tree list.\n",
    "Increment the pos pointer.\n",
    "Return the tree list.\n",
    "Call the buildTree function with s and the initial value of pos set to 0.\n",
    "Return the resulting binary tree.\n",
    "Here's the implementation of the algorithm in Python:\n"
   ]
  },
  {
   "cell_type": "code",
   "execution_count": 18,
   "id": "21b72c23",
   "metadata": {},
   "outputs": [
    {
     "data": {
      "text/plain": [
       "[4, [2, [3]]]"
      ]
     },
     "execution_count": 18,
     "metadata": {},
     "output_type": "execute_result"
    }
   ],
   "source": [
    "def buildTree(s, pos):\n",
    "    tree = []\n",
    "    value = 0\n",
    "\n",
    "    while pos < len(s) and s[pos] != '(' and s[pos] != ')':\n",
    "        value = value * 10 + int(s[pos])\n",
    "        pos += 1\n",
    "\n",
    "    tree.append(value)\n",
    "\n",
    "    if pos < len(s) and s[pos] == '(':\n",
    "        pos += 1\n",
    "        tree.append(buildTree(s, pos))\n",
    "\n",
    "    if pos < len(s) and s[pos] == '(':\n",
    "        pos += 1\n",
    "        tree.append(buildTree(s, pos))\n",
    "\n",
    "    pos += 1\n",
    "\n",
    "    return tree\n",
    "\n",
    "def treeFromString(s):\n",
    "    if not s:\n",
    "        return []\n",
    "\n",
    "    return buildTree(s, 0)\n",
    "treeFromString(\"4(2(3)(1))(6(5))\")"
   ]
  },
  {
   "cell_type": "markdown",
   "id": "f2bb4fc4",
   "metadata": {},
   "source": [
    "**Ans.5** To compress the input array of characters `chars` according to the given algorithm, we can use two pointers and modify the array in place. The algorithm can be outlined as follows:\n",
    "\n",
    "1. Initialize two pointers: `write` and `read`. The `write` pointer keeps track of the current position to write the compressed characters, and the `read` pointer iterates through the input array.\n",
    "2. Initialize a variable `count` to keep track of the consecutive repeating characters' count. Set `count` to 1.\n",
    "3. Iterate through the array starting from the second element (index 1) using the `read` pointer.\n",
    "   - If the current character is the same as the previous character, increment `count` by 1.\n",
    "   - If the current character is different from the previous character, write the compressed character(s) to the array using the `write` pointer.\n",
    "     - If `count` is 1, write the previous character.\n",
    "     - If `count` is greater than 1, write the previous character followed by its count (as a string).\n",
    "   - Reset `count` to 1 for the new group of consecutive characters.\n",
    "4. After the iteration, write the last compressed character(s) to the array if there is any.\n",
    "   - If `count` is 1, write the last character.\n",
    "   - If `count` is greater than 1, write the last character followed by its count (as a string).\n",
    "5. Return the `write` pointer as the new length of the compressed array.\n",
    "\n",
    "Here's the implementation of the algorithm in Python:\n",
    "\n"
   ]
  },
  {
   "cell_type": "code",
   "execution_count": 5,
   "id": "e9821e2f",
   "metadata": {},
   "outputs": [
    {
     "data": {
      "text/plain": [
       "6"
      ]
     },
     "execution_count": 5,
     "metadata": {},
     "output_type": "execute_result"
    }
   ],
   "source": [
    "def compress(chars):\n",
    "    write = 0\n",
    "    read = 0\n",
    "    count = 1\n",
    "\n",
    "    while read < len(chars):\n",
    "        if read + 1 < len(chars) and chars[read] == chars[read + 1]:\n",
    "            count += 1\n",
    "        else:\n",
    "            chars[write] = chars[read]\n",
    "            write += 1\n",
    "            if count > 1:\n",
    "                for digit in str(count):\n",
    "                    chars[write] = digit\n",
    "                    write += 1\n",
    "            count = 1\n",
    "\n",
    "        read += 1\n",
    "\n",
    "    return write\n",
    "\n",
    "compress([\"a\",\"a\",\"b\",\"b\",\"c\",\"c\",\"c\"])"
   ]
  },
  {
   "cell_type": "markdown",
   "id": "5cff3cca",
   "metadata": {},
   "source": [
    "**Ans.6** here is the code to find all start indices of anagrams in a string in Python:\n"
   ]
  },
  {
   "cell_type": "code",
   "execution_count": 7,
   "id": "ef684bdb",
   "metadata": {},
   "outputs": [
    {
     "name": "stdout",
     "output_type": "stream",
     "text": [
      "[]\n"
     ]
    }
   ],
   "source": [
    "def find_anagrams(s, p):\n",
    "  \"\"\"\n",
    "  Finds all the start indices of p's anagrams in s.\n",
    "\n",
    "  Args:\n",
    "    s: The string to search.\n",
    "    p: The string to find anagrams of.\n",
    "\n",
    "  Returns:\n",
    "    A list of all the start indices of p's anagrams in s.\n",
    "  \"\"\"\n",
    "\n",
    "  # Create a hash table to store the frequencies of each letter in p.\n",
    "  p_frequencies = {}\n",
    "  for letter in p:\n",
    "    if letter not in p_frequencies:\n",
    "      p_frequencies[letter] = 0\n",
    "    p_frequencies[letter] += 1\n",
    "\n",
    "  # Create a list to store the start indices of all the anagrams of p in s.\n",
    "  anagram_indices = []\n",
    "\n",
    "  # Iterate over the characters in s.\n",
    "  for i in range(len(s)):\n",
    "    # Create a hash table to store the frequencies of each letter in the substring starting at i.\n",
    "    s_frequencies = {}\n",
    "    for letter in s[i:]:\n",
    "      if letter not in s_frequencies:\n",
    "        s_frequencies[letter] = 0\n",
    "      s_frequencies[letter] += 1\n",
    "\n",
    "    # Check if the frequencies of the letters in the substring are the same as the frequencies of the letters in p.\n",
    "    if s_frequencies == p_frequencies:\n",
    "      anagram_indices.append(i)\n",
    "\n",
    "  return anagram_indices\n",
    "\n",
    "s = \"cbaebabacd\"\n",
    "p = \"abc\"\n",
    "\n",
    "anagrams = find_anagrams(s, p)\n",
    "\n",
    "print(anagrams)"
   ]
  },
  {
   "cell_type": "markdown",
   "id": "be8edaea",
   "metadata": {},
   "source": [
    "**Ans7.** To decode an encoded string, we can use a stack to keep track of the current decoding process. We'll iterate through the characters of the input string and perform the decoding based on the provided rules.\n",
    "\n",
    "The algorithm can be outlined as follows:\n",
    "\n",
    "1. Initialize an empty stack to store the current decoding process.\n",
    "2. Iterate through each character `c` in the input string `s`:\n",
    "   - If `c` is a digit, convert it to an integer and push it onto the stack. This represents the repetition count.\n",
    "   - If `c` is an opening bracket \"[\", simply continue to the next character.\n",
    "   - If `c` is a closing bracket \"]\":\n",
    "     - Pop elements from the stack until a digit is encountered. This will give us the repetition count.\n",
    "     - Pop elements from the stack until a digit or an opening bracket is encountered. This will give us the encoded string that needs to be repeated.\n",
    "     - Repeat the decoded string obtained and push it back onto the stack.\n",
    "3. At the end of the iteration, the stack will contain the decoded string. Concatenate the elements of the stack and return the result.\n"
   ]
  },
  {
   "cell_type": "code",
   "execution_count": 19,
   "id": "d66a1185",
   "metadata": {},
   "outputs": [
    {
     "data": {
      "text/plain": [
       "'aaabcbc'"
      ]
     },
     "execution_count": 19,
     "metadata": {},
     "output_type": "execute_result"
    }
   ],
   "source": [
    "def decodeString(s):\n",
    "    stack = []\n",
    "\n",
    "    for c in s:\n",
    "        if c.isdigit():\n",
    "            stack.append(int(c))\n",
    "        elif c == '[':\n",
    "            stack.append(c)\n",
    "        elif c == ']':\n",
    "            decoded_string = ''\n",
    "            while stack and stack[-1] != '[':\n",
    "                decoded_string = stack.pop() + decoded_string\n",
    "\n",
    "            # Pop the opening bracket '['\n",
    "            stack.pop()\n",
    "\n",
    "            repeat_count = stack.pop()\n",
    "            stack.append(decoded_string * repeat_count)\n",
    "        else:\n",
    "            stack.append(c)\n",
    "\n",
    "    return ''.join(stack)\n",
    "\n",
    "decodeString(\"3[a]2[bc]\")"
   ]
  },
  {
   "cell_type": "markdown",
   "id": "54432125",
   "metadata": {},
   "source": [
    "**Ans.8 ** To check if we can swap two letters in `s` to obtain `goal`, we need to compare the characters at corresponding positions in both strings and identify the indices where the characters differ. If there are exactly two indices `i` and `j` where `s[i] != goal[i]` and `s[j] != goal[j]` and `s[i] == goal[j]` and `s[j] == goal[i]`, then we can swap the characters at these indices to transform `s` into `goal`.\n",
    "\n",
    "The algorithm can be outlined as follows:\n",
    "\n",
    "1. Initialize two lists, `diff_indices` and `diff_chars`, to store the differing indices and characters between `s` and `goal`.\n",
    "2. Iterate through the characters of `s` and `goal` simultaneously:\n",
    "   - If `s[i] != goal[i]`, add `i` to `diff_indices` and `s[i]` and `goal[i]` to `diff_chars`.\n",
    "3. If the length of `diff_indices` is not equal to 2, return `False` since we should have exactly two differing indices for a valid swap.\n",
    "4. If the characters at `diff_indices[0]` and `diff_indices[1]` in `s` are equal to `diff_chars[1]` and `diff_chars[0]` respectively, return `True`.\n",
    "5. If none of the conditions above are satisfied, return `False`.\n",
    "\n"
   ]
  },
  {
   "cell_type": "code",
   "execution_count": 21,
   "id": "827393b1",
   "metadata": {},
   "outputs": [
    {
     "data": {
      "text/plain": [
       "False"
      ]
     },
     "execution_count": 21,
     "metadata": {},
     "output_type": "execute_result"
    }
   ],
   "source": [
    "def canBeEqual(s, goal):\n",
    "    diff_indices = []\n",
    "    diff_chars = []\n",
    "\n",
    "    for i in range(len(s)):\n",
    "        if s[i] != goal[i]:\n",
    "            diff_indices.append(i)\n",
    "            diff_chars.append(s[i])\n",
    "            diff_chars.append(goal[i])\n",
    "\n",
    "    if len(diff_indices) != 2:\n",
    "        return False\n",
    "\n",
    "    i, j = diff_indices\n",
    "    return s[i] == diff_chars[1] and s[j] == diff_chars[0]\n",
    "\n",
    "canBeEqual(\"ab\", \"ba\")\n"
   ]
  },
  {
   "cell_type": "code",
   "execution_count": null,
   "id": "f99450c4",
   "metadata": {},
   "outputs": [],
   "source": []
  }
 ],
 "metadata": {
  "kernelspec": {
   "display_name": "Python 3 (ipykernel)",
   "language": "python",
   "name": "python3"
  },
  "language_info": {
   "codemirror_mode": {
    "name": "ipython",
    "version": 3
   },
   "file_extension": ".py",
   "mimetype": "text/x-python",
   "name": "python",
   "nbconvert_exporter": "python",
   "pygments_lexer": "ipython3",
   "version": "3.9.12"
  }
 },
 "nbformat": 4,
 "nbformat_minor": 5
}
