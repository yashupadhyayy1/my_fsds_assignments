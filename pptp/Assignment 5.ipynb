{
 "cells": [
  {
   "cell_type": "markdown",
   "id": "edfb6350",
   "metadata": {},
   "source": [
    "# ASSIGNMENT 5"
   ]
  },
  {
   "cell_type": "markdown",
   "id": "9592dacd",
   "metadata": {},
   "source": [
    "**Ans 1.**  Here is the code to convert a 1D array into a 2D array in Python:"
   ]
  },
  {
   "cell_type": "code",
   "execution_count": 3,
   "id": "ab211482",
   "metadata": {},
   "outputs": [
    {
     "name": "stdout",
     "output_type": "stream",
     "text": [
      "[[1, 2, 3, 4], [5, 6, 7, 8]]\n"
     ]
    }
   ],
   "source": [
    "def convert_1d_array_to_2d_array(original, m, n):\n",
    "  \"\"\"\n",
    "  Converts a 1D array into a 2D array.\n",
    "\n",
    "  Args:\n",
    "    original: The 1D array to convert.\n",
    "    m: The number of rows in the 2D array.\n",
    "    n: The number of columns in the 2D array.\n",
    "\n",
    "  Returns:\n",
    "    The converted 2D array.\n",
    "  \"\"\"\n",
    "\n",
    "  if len(original) % (m * n) != 0:\n",
    "    return []\n",
    "\n",
    "  array = []\n",
    "  for i in range(m):\n",
    "    row = original[i * n: (i + 1) * n]\n",
    "    array.append(row)\n",
    "\n",
    "  return array\n",
    "\n",
    "original = [1, 2, 3, 4, 5, 6, 7, 8]\n",
    "m = 2\n",
    "n = 4\n",
    "\n",
    "array = convert_1d_array_to_2d_array(original, m, n)\n",
    "\n",
    "print(array)\n"
   ]
  },
  {
   "cell_type": "markdown",
   "id": "1d398e6c",
   "metadata": {},
   "source": [
    "**Ans 2.** To find the number of complete rows in the staircase, we can use a mathematical approach.\n",
    "\n",
    "Observations:\n",
    "1. The total number of coins needed to build a staircase with k complete rows can be calculated using the formula for the sum of the first k natural numbers: `total_coins = k * (k + 1) / 2`.\n",
    "2. The number of complete rows can be determined by finding the largest value of k such that `total_coins` is less than or equal to n.\n",
    "\n",
    "Algorithm:\n",
    "1. Initialize the variables `left` and `right` to 0 and `n`, respectively. These represent the lower and upper bounds for the binary search.\n",
    "2. While `left` is less than or equal to `right`:\n",
    "   - Calculate the midpoint `mid` as `(left + right) // 2`.\n",
    "   - Calculate the total number of coins `total_coins` using the formula `total_coins = mid * (mid + 1) // 2`.\n",
    "   - If `total_coins` is less than or equal to `n`, update `left` to `mid + 1`.\n",
    "   - Otherwise, update `right` to `mid - 1`.\n",
    "3. Return `right` as the number of complete rows.\n",
    "\n",
    "Here's the Python code to implement this algorithm:\n",
    "\n",
    "\n"
   ]
  },
  {
   "cell_type": "code",
   "execution_count": 4,
   "id": "45d03296",
   "metadata": {},
   "outputs": [
    {
     "name": "stdout",
     "output_type": "stream",
     "text": [
      "2\n"
     ]
    }
   ],
   "source": [
    "def arrangeCoins(n):\n",
    "    left, right = 0, n\n",
    "\n",
    "    while left <= right:\n",
    "        mid = (left + right) // 2\n",
    "        total_coins = mid * (mid + 1) // 2\n",
    "\n",
    "        if total_coins <= n:\n",
    "            left = mid + 1\n",
    "        else:\n",
    "            right = mid - 1\n",
    "\n",
    "    return right\n",
    "\n",
    "n = 5\n",
    "print(arrangeCoins(n))\n"
   ]
  },
  {
   "cell_type": "markdown",
   "id": "2278117e",
   "metadata": {},
   "source": [
    "**Ans 3.** To square each number in the given array `nums` and return the sorted array of the squares, we can use a two-pointer approach.\n",
    "\n",
    "Algorithm:\n",
    "1. Initialize two pointers, `left` and `right`, pointing to the start and end of the array `nums`.\n",
    "2. Create an empty result array to store the squares of the numbers.\n",
    "3. Iterate over the array from right to left:\n",
    "   - Compare the absolute values of `nums[left]` and `nums[right]`.\n",
    "   - If `abs(nums[left]) > abs(nums[right])`, square `nums[left]` and append it to the result array. Move the `left` pointer one step to the right.\n",
    "   - Otherwise, square `nums[right]` and append it to the result array. Move the `right` pointer one step to the left.\n",
    "4. Reverse the result array to obtain the squares in non-decreasing order.\n",
    "5. Return the result array.\n",
    "\n",
    "Here's the Python code to implement this algorithm:\n",
    "\n",
    "\n"
   ]
  },
  {
   "cell_type": "code",
   "execution_count": 6,
   "id": "21ea9b89",
   "metadata": {},
   "outputs": [
    {
     "name": "stdout",
     "output_type": "stream",
     "text": [
      "[0, 1, 9, 16, 100]\n"
     ]
    }
   ],
   "source": [
    "def sortedSquares(nums):\n",
    "    left, right = 0, len(nums) - 1\n",
    "    result = []\n",
    "\n",
    "    while left <= right:\n",
    "        if abs(nums[left]) > abs(nums[right]):\n",
    "            result.append(nums[left] ** 2)\n",
    "            left += 1\n",
    "        else:\n",
    "            result.append(nums[right] ** 2)\n",
    "            right -= 1\n",
    "\n",
    "    return result[::-1]\n",
    "\n",
    "nums = [-4, -1, 0, 3, 10]\n",
    "print(sortedSquares(nums))\n"
   ]
  },
  {
   "cell_type": "markdown",
   "id": "2fd2d79a",
   "metadata": {},
   "source": [
    "**Ans 4.** Here is the Python code to find the distinct elements in two array:"
   ]
  },
  {
   "cell_type": "code",
   "execution_count": 10,
   "id": "b55783c5",
   "metadata": {},
   "outputs": [
    {
     "name": "stdout",
     "output_type": "stream",
     "text": [
      "[1, 3] [4, 6]\n"
     ]
    }
   ],
   "source": [
    "def find_distinct_elements(nums1, nums2):\n",
    "  \"\"\"\n",
    "  Finds the distinct elements in two arrays.\n",
    "\n",
    "  Args:\n",
    "    nums1: The first array.\n",
    "    nums2: The second array.\n",
    "\n",
    "  Returns:\n",
    "    A list of distinct elements in nums1 that are not present in nums2.\n",
    "  \"\"\"\n",
    "\n",
    "  # Create a set of all elements in nums1.\n",
    "  nums1_set = set(nums1)\n",
    "\n",
    "  # Remove all elements in nums1 that are present in nums2.\n",
    "  for num in nums2:\n",
    "    if num in nums1_set:\n",
    "      nums1_set.remove(num)\n",
    "\n",
    "  # Return a list of all elements in nums1_set.\n",
    "  return list(nums1_set)\n",
    "\n",
    "\n",
    "def main():\n",
    "#   # Read the input.\n",
    "# nums1 = list(map(int, input().split()))\n",
    "# nums2 = list(map(int, input().split()))\n",
    "  nums1 = [1, 2, 3]\n",
    "  nums2 = [2, 4, 6]\n",
    "  distinct_elements1, distinct_elements2 = find_distinct_elements(nums1, nums2)\n",
    "\n",
    "\n",
    "  # Find the distinct elements in nums1 and nums2.\n",
    "  distinct_elements1 = find_distinct_elements(nums1, nums2)\n",
    "  distinct_elements2 = find_distinct_elements(nums2, nums1)\n",
    "\n",
    "  # Print the output.\n",
    "  print(distinct_elements1, distinct_elements2)\n",
    "\n",
    "\n",
    "if __name__ == \"__main__\":\n",
    "    main()\n",
    "    \n",
    "    \n",
    "#     print(distinct_elements1, distinct_elements2)\n"
   ]
  },
  {
   "cell_type": "markdown",
   "id": "398ad00a",
   "metadata": {},
   "source": [
    "**Ans 5.** To calculate the distance value between two integer arrays `arr1` and `arr2` based on the given condition, we can use a nested loop approach.\n",
    "\n",
    "Algorithm:\n",
    "1. Initialize a variable `distance` to 0 to keep track of the distance value.\n",
    "2. Iterate over each element `num1` in `arr1`.\n",
    "3. For each `num1`, iterate over each element `num2` in `arr2`.\n",
    "4. Check if the absolute difference between `num1` and `num2` is greater than `d`.\n",
    "   - If it is, increment `distance` by 1 and break out of the inner loop.\n",
    "5. Return the value of `distance`.\n",
    "\n",
    "Here's the Python code to implement this algorithm:\n",
    "\n",
    "\n"
   ]
  },
  {
   "cell_type": "code",
   "execution_count": 11,
   "id": "fd5b4ad4",
   "metadata": {},
   "outputs": [
    {
     "name": "stdout",
     "output_type": "stream",
     "text": [
      "2\n"
     ]
    }
   ],
   "source": [
    "def findTheDistanceValue(arr1, arr2, d):\n",
    "    distance = 0\n",
    "\n",
    "    for num1 in arr1:\n",
    "        for num2 in arr2:\n",
    "            if abs(num1 - num2) <= d:\n",
    "                break\n",
    "        else:\n",
    "            distance += 1\n",
    "\n",
    "    return distance\n",
    "\n",
    "arr1 = [4, 5, 8]\n",
    "arr2 = [10, 9, 1, 8]\n",
    "d = 2\n",
    "print(findTheDistanceValue(arr1, arr2, d))\n"
   ]
  },
  {
   "cell_type": "markdown",
   "id": "13eb3d7f",
   "metadata": {},
   "source": [
    "**Ans 6.** Here is the algorithm in Python:"
   ]
  },
  {
   "cell_type": "code",
   "execution_count": 12,
   "id": "71876c45",
   "metadata": {},
   "outputs": [
    {
     "name": "stdout",
     "output_type": "stream",
     "text": [
      "[2, 3]\n"
     ]
    }
   ],
   "source": [
    "def find_duplicates(nums):\n",
    "  \"\"\"\n",
    "  Finds all the integers that appear twice in the given array.\n",
    "\n",
    "  Args:\n",
    "    nums: An array of integers.\n",
    "\n",
    "  Returns:\n",
    "    A list of integers that appear twice in the given array.\n",
    "  \"\"\"\n",
    "\n",
    "  seen = set()\n",
    "  duplicates = []\n",
    "\n",
    "  for num in nums:\n",
    "    if num in seen:\n",
    "      duplicates.append(num)\n",
    "    else:\n",
    "      seen.add(num)\n",
    "\n",
    "  return duplicates\n",
    "\n",
    "nums = [4, 3, 2, 7, 8, 2, 3, 1]\n",
    "duplicates = find_duplicates(nums)\n",
    "print(duplicates)\n",
    "\n"
   ]
  },
  {
   "cell_type": "markdown",
   "id": "9e9c049d",
   "metadata": {},
   "source": [
    "**Ans 7.** To find the minimum element in a sorted rotated array `nums` in O(log n) time, we can use a modified version of binary search.\n",
    "\n",
    "Algorithm:\n",
    "1. Initialize two pointers, `left` and `right`, pointing to the start and end of the array `nums`.\n",
    "2. While `left` is less than `right`, do:\n",
    "   - Calculate the middle index as `mid` = (left + right) // 2.\n",
    "   - Check if the element at `mid` is greater than the element at `right`.\n",
    "     - If it is, move the `left` pointer to `mid + 1`.\n",
    "     - If it's not, move the `right` pointer to `mid`.\n",
    "3. At the end of the loop, the `left` pointer will point to the minimum element in the array.\n",
    "4. Return the element at index `left`.\n",
    "\n",
    "Here's the Python code to implement this algorithm:\n",
    "\n",
    "\n"
   ]
  },
  {
   "cell_type": "code",
   "execution_count": 13,
   "id": "ee6fe031",
   "metadata": {},
   "outputs": [
    {
     "name": "stdout",
     "output_type": "stream",
     "text": [
      "1\n"
     ]
    }
   ],
   "source": [
    "def findMin(nums):\n",
    "    left = 0\n",
    "    right = len(nums) - 1\n",
    "\n",
    "    while left < right:\n",
    "        mid = (left + right) // 2\n",
    "\n",
    "        if nums[mid] > nums[right]:\n",
    "            left = mid + 1\n",
    "        else:\n",
    "            right = mid\n",
    "\n",
    "    return nums[left]\n",
    "\n",
    "nums = [3, 4, 5, 1, 2]\n",
    "print(findMin(nums))\n"
   ]
  },
  {
   "cell_type": "markdown",
   "id": "293d3706",
   "metadata": {},
   "source": [
    "**Ans 8.** Here is the algorithm in Python:\n",
    "\n",
    "\n"
   ]
  },
  {
   "cell_type": "code",
   "execution_count": 16,
   "id": "68694bbf",
   "metadata": {},
   "outputs": [
    {
     "name": "stdout",
     "output_type": "stream",
     "text": [
      "[]\n"
     ]
    }
   ],
   "source": [
    "def undouble(changed):\n",
    "  \"\"\"\n",
    "  Undoubles the given array, returning the original array if it is a doubled array, or an empty array otherwise.\n",
    "\n",
    "  Args:\n",
    "    changed: The array to undouble.\n",
    "\n",
    "  Returns:\n",
    "    The original array if it is a doubled array, or an empty array otherwise.\n",
    "  \"\"\"\n",
    "\n",
    "  seen = set()\n",
    "  original = []\n",
    "\n",
    "  for num in changed:\n",
    "    if num not in seen:\n",
    "      original.append(num)\n",
    "    else:\n",
    "      original.append(num * 2)\n",
    "    seen.add(num)\n",
    "\n",
    "  if len(original) // 2 == len(changed):\n",
    "    return original\n",
    "  else:\n",
    "    return []\n",
    "changed = [1, 3, 4, 2, 6, 8]\n",
    "original = undouble(changed)\n",
    "print(original)\n"
   ]
  },
  {
   "cell_type": "code",
   "execution_count": null,
   "id": "5685e5ce",
   "metadata": {},
   "outputs": [],
   "source": []
  }
 ],
 "metadata": {
  "kernelspec": {
   "display_name": "Python 3 (ipykernel)",
   "language": "python",
   "name": "python3"
  },
  "language_info": {
   "codemirror_mode": {
    "name": "ipython",
    "version": 3
   },
   "file_extension": ".py",
   "mimetype": "text/x-python",
   "name": "python",
   "nbconvert_exporter": "python",
   "pygments_lexer": "ipython3",
   "version": "3.9.12"
  }
 },
 "nbformat": 4,
 "nbformat_minor": 5
}
