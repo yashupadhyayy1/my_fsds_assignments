{
 "cells": [
  {
   "cell_type": "markdown",
   "id": "8c0a9863",
   "metadata": {},
   "source": [
    "# ASSIGNMENT 2"
   ]
  },
  {
   "cell_type": "markdown",
   "id": "5d04eacf",
   "metadata": {},
   "source": [
    "Ans 1.Here is the solution to the problem:"
   ]
  },
  {
   "cell_type": "code",
   "execution_count": 1,
   "id": "9bad6741",
   "metadata": {},
   "outputs": [
    {
     "name": "stdout",
     "output_type": "stream",
     "text": [
      "4\n"
     ]
    }
   ],
   "source": [
    "def array_partition_i(nums):\n",
    "  \"\"\"\n",
    "  Given an integer array nums of 2n integers, group these integers into n pairs (a1, b1), (a2, b2),..., (an, bn) such that the sum of min(ai, bi) for all i is maximized. Return the maximized sum.\n",
    "\n",
    "  Args:\n",
    "    nums: An integer array of 2n integers.\n",
    "\n",
    "  Returns:\n",
    "    The maximum sum of min(ai, bi) for all i.\n",
    "  \"\"\"\n",
    "\n",
    "  # Sort the array in ascending order.\n",
    "  nums.sort()\n",
    "\n",
    "  # Initialize the sum of min(ai, bi) to 0.\n",
    "  sum_min = 0\n",
    "\n",
    "  # Iterate over the array, grouping the first two elements into a pair.\n",
    "  for i in range(0, len(nums), 2):\n",
    "    # Add the minimum of the two elements to the sum of min(ai, bi).\n",
    "    sum_min += min(nums[i], nums[i + 1])\n",
    "\n",
    "  # Return the sum of min(ai, bi).\n",
    "  return sum_min\n",
    "nums = [1, 4, 3, 2]\n",
    "\n",
    "# Find the maximum sum of min(ai, bi).\n",
    "max_sum = array_partition_i(nums)\n",
    "\n",
    "# Print the maximum sum.\n",
    "print(max_sum)\n"
   ]
  },
  {
   "cell_type": "markdown",
   "id": "71d4df4e",
   "metadata": {},
   "source": [
    "Ans 2. we need to find the maximum number of different types of candies Alice can eat if she can only eat n/2 candies.\n",
    "\n",
    "We can use a set to keep track of the unique candy types. By adding each candy type to the set, we can ensure that only unique types are counted. Finally, we return the minimum value between the number of unique types and n/2 (since Alice can only eat n/2 candies).\n",
    "\n",
    "Here's the Python code to implement this solution:"
   ]
  },
  {
   "cell_type": "code",
   "execution_count": 2,
   "id": "d9e672c5",
   "metadata": {},
   "outputs": [
    {
     "name": "stdout",
     "output_type": "stream",
     "text": [
      "3\n"
     ]
    }
   ],
   "source": [
    "def maxUniqueCandies(candyType):\n",
    "    unique_candies = set()\n",
    "    for candy in candyType:\n",
    "        unique_candies.add(candy)\n",
    "    \n",
    "    return min(len(unique_candies), len(candyType) // 2)\n",
    "candyType = [1, 1, 2, 2, 3, 3]\n",
    "print(maxUniqueCandies(candyType))\n"
   ]
  },
  {
   "cell_type": "markdown",
   "id": "b38fa0c7",
   "metadata": {},
   "source": [
    "Ans 3. To solve this problem, we can iterate over the given array `nums` and count the frequency of each number using a dictionary. Then, for each number `num` in the dictionary, we check if both `num+1` and `num-1` exist in the dictionary. If they do, we add the frequencies of `num` and `num+1` (or `num-1`) to calculate the length of the harmonious subsequence. We update the maximum length as we iterate through the dictionary.\n",
    "\n",
    "Here's the Python code to implement this solution:\n"
   ]
  },
  {
   "cell_type": "code",
   "execution_count": 4,
   "id": "5f6dad2f",
   "metadata": {},
   "outputs": [
    {
     "name": "stdout",
     "output_type": "stream",
     "text": [
      "5\n"
     ]
    }
   ],
   "source": [
    "def findLHS(nums):\n",
    "    num_freq = {}\n",
    "    max_length = 0\n",
    "\n",
    "    # Count the frequency of each number\n",
    "    for num in nums:\n",
    "        num_freq[num] = num_freq.get(num, 0) + 1\n",
    "\n",
    "    # Check for harmonious subsequences\n",
    "    for num in num_freq:\n",
    "        if num + 1 in num_freq:\n",
    "            length = num_freq[num] + num_freq[num + 1]\n",
    "            max_length = max(max_length, length)\n",
    "    \n",
    "    return max_length\n",
    "\n",
    "nums = [1, 3, 2, 2, 5, 2, 3, 7]\n",
    "print(findLHS(nums))\n"
   ]
  },
  {
   "cell_type": "markdown",
   "id": "cbd8bea2",
   "metadata": {},
   "source": [
    "Ans 4.To solve this problem, we can iterate over the flowerbed array and check if each plot is empty (0) and its adjacent plots are also empty. If we find such a plot, we can plant a flower in it and decrease the value of n by 1. We continue this process until either n becomes zero or we reach the end of the flowerbed array.\n",
    "\n",
    "Here's the Python code to implement this solution:"
   ]
  },
  {
   "cell_type": "code",
   "execution_count": 5,
   "id": "5338fea2",
   "metadata": {},
   "outputs": [
    {
     "name": "stdout",
     "output_type": "stream",
     "text": [
      "True\n"
     ]
    }
   ],
   "source": [
    "def canPlaceFlowers(flowerbed, n):\n",
    "    length = len(flowerbed)\n",
    "    count = 0\n",
    "    i = 0\n",
    "\n",
    "    while i < length:\n",
    "        if flowerbed[i] == 0 and (i == 0 or flowerbed[i - 1] == 0) and (i == length - 1 or flowerbed[i + 1] == 0):\n",
    "            flowerbed[i] = 1\n",
    "            count += 1\n",
    "            if count >= n:\n",
    "                return True\n",
    "        i += 1\n",
    "    \n",
    "    return False\n",
    "flowerbed = [1, 0, 0, 0, 1]\n",
    "n = 1\n",
    "print(canPlaceFlowers(flowerbed, n))\n"
   ]
  },
  {
   "cell_type": "markdown",
   "id": "f3cc78f3",
   "metadata": {},
   "source": [
    "Ans 5.To solve this problem, we need to find three numbers in the given array `nums` whose product is maximum.\n",
    "\n",
    "Since the maximum product can be achieved by either multiplying the three largest numbers or the two smallest numbers (negative values) with the largest number, we can sort the array in ascending order. Then, we compare the product of the three largest numbers with the product of the two smallest numbers and the largest number, and return the maximum among these two products.\n",
    "\n",
    "Here's the Python code to implement this solution:\n",
    "\n"
   ]
  },
  {
   "cell_type": "code",
   "execution_count": 6,
   "id": "f6b2717d",
   "metadata": {},
   "outputs": [
    {
     "name": "stdout",
     "output_type": "stream",
     "text": [
      "6\n"
     ]
    }
   ],
   "source": [
    "def maximumProduct(nums):\n",
    "    nums.sort()\n",
    "    n = len(nums)\n",
    "    \n",
    "    return max(nums[n - 1] * nums[n - 2] * nums[n - 3], nums[0] * nums[1] * nums[n - 1])\n",
    "\n",
    "nums = [1, 2, 3]\n",
    "print(maximumProduct(nums))\n"
   ]
  },
  {
   "cell_type": "markdown",
   "id": "a2d7f276",
   "metadata": {},
   "source": [
    "Ans 6. To search for a target in an ascending sorted array `nums` using an algorithm with O(log n) runtime complexity, we can use the binary search algorithm.\n",
    "\n",
    "Binary search works by repeatedly dividing the search space in half until the target is found or the search space is empty. Since the array is sorted, we can compare the target with the middle element of the array to determine which half of the array to search next.\n"
   ]
  },
  {
   "cell_type": "code",
   "execution_count": 7,
   "id": "efada315",
   "metadata": {},
   "outputs": [
    {
     "name": "stdout",
     "output_type": "stream",
     "text": [
      "4\n"
     ]
    }
   ],
   "source": [
    "def search(nums, target):\n",
    "    left = 0\n",
    "    right = len(nums) - 1\n",
    "    \n",
    "    while left <= right:\n",
    "        mid = (left + right) // 2\n",
    "        if nums[mid] == target:\n",
    "            return mid\n",
    "        elif nums[mid] < target:\n",
    "            left = mid + 1\n",
    "        else:\n",
    "            right = mid - 1\n",
    "    \n",
    "    return -1\n",
    "\n",
    "nums = [-1, 0, 3, 5, 9, 12]\n",
    "target = 9\n",
    "print(search(nums, target))\n"
   ]
  },
  {
   "cell_type": "markdown",
   "id": "085b78c5",
   "metadata": {},
   "source": [
    "Ans 7. To determine if an array `nums` is monotonic, we can iterate over the array and check if it is either monotone increasing or monotone decreasing.\n",
    "\n",
    "We can start by assuming that the array is monotone increasing and monotone decreasing. We iterate through the array and compare each element with the previous element. If we find a case where an element is greater than the previous element, we set the increasing flag to false. Similarly, if we find a case where an element is smaller than the previous element, we set the decreasing flag to false.\n",
    "\n",
    "If either the increasing flag or the decreasing flag becomes false during the iteration, it means the array is not monotonic."
   ]
  },
  {
   "cell_type": "code",
   "execution_count": 8,
   "id": "e31267b8",
   "metadata": {},
   "outputs": [
    {
     "name": "stdout",
     "output_type": "stream",
     "text": [
      "True\n"
     ]
    }
   ],
   "source": [
    "def isMonotonic(nums):\n",
    "    increasing = True\n",
    "    decreasing = True\n",
    "\n",
    "    for i in range(1, len(nums)):\n",
    "        if nums[i] < nums[i - 1]:\n",
    "            increasing = False\n",
    "        if nums[i] > nums[i - 1]:\n",
    "            decreasing = False\n",
    "    \n",
    "    return increasing or decreasing\n",
    "nums = [1, 2, 2, 3]\n",
    "print(isMonotonic(nums))"
   ]
  },
  {
   "cell_type": "markdown",
   "id": "ae0f22a1",
   "metadata": {},
   "source": [
    "Ans 8. To minimize the score of an array `nums` after applying the mentioned operation at most once for each index, we can observe that the optimal strategy is to increase the minimum element and decrease the maximum element.\n",
    "\n",
    "First, we find the initial minimum and maximum values in the array. Then, we iterate over the array and for each element, we calculate the potential minimum and maximum values if we apply the operation. We update the minimum and maximum values accordingly.\n",
    "\n",
    "Finally, we return the difference between the updated maximum and minimum values as the minimum score."
   ]
  },
  {
   "cell_type": "code",
   "execution_count": 9,
   "id": "8ab958ed",
   "metadata": {},
   "outputs": [
    {
     "name": "stdout",
     "output_type": "stream",
     "text": [
      "0\n"
     ]
    }
   ],
   "source": [
    "def minScore(nums, k):\n",
    "    minimum = float('inf')\n",
    "    maximum = float('-inf')\n",
    "\n",
    "    # Find initial minimum and maximum values\n",
    "    for num in nums:\n",
    "        minimum = min(minimum, num)\n",
    "        maximum = max(maximum, num)\n",
    "\n",
    "    # Apply the operation to minimize the score\n",
    "    for i in range(len(nums)):\n",
    "        potential_min = nums[i] - k\n",
    "        potential_max = nums[i] + k\n",
    "        minimum = min(minimum, potential_min)\n",
    "        maximum = max(maximum, potential_max)\n",
    "\n",
    "    return maximum - minimum\n",
    "\n",
    "nums = [1]\n",
    "k = 0\n",
    "print(minScore(nums, k))\n"
   ]
  },
  {
   "cell_type": "code",
   "execution_count": null,
   "id": "20453a28",
   "metadata": {},
   "outputs": [],
   "source": []
  }
 ],
 "metadata": {
  "kernelspec": {
   "display_name": "Python 3 (ipykernel)",
   "language": "python",
   "name": "python3"
  },
  "language_info": {
   "codemirror_mode": {
    "name": "ipython",
    "version": 3
   },
   "file_extension": ".py",
   "mimetype": "text/x-python",
   "name": "python",
   "nbconvert_exporter": "python",
   "pygments_lexer": "ipython3",
   "version": "3.9.12"
  }
 },
 "nbformat": 4,
 "nbformat_minor": 5
}
